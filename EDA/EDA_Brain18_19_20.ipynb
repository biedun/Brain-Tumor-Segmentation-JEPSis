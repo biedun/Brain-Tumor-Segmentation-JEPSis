{
 "cells": [
  {
   "cell_type": "markdown",
   "metadata": {},
   "source": [
    "# Brain Tumor Segmentation\n",
    "### EDA of survival data and name-mapping of the years 2018, 2019 and 2020"
   ]
  },
  {
   "cell_type": "code",
   "execution_count": 31,
   "metadata": {
    "executionInfo": {
     "elapsed": 337,
     "status": "ok",
     "timestamp": 1708091491405,
     "user": {
      "displayName": "Franklin Turtle",
      "userId": "12328038110161735143"
     },
     "user_tz": -60
    },
    "id": "KZuzUXdI3u_Y",
    "tags": []
   },
   "outputs": [],
   "source": [
    "# load packages\n",
    "import pandas as pd\n",
    "import missingno as mso\n",
    "import seaborn as sns\n",
    "import numpy as np\n",
    "import matplotlib.pyplot as plt"
   ]
  },
  {
   "cell_type": "markdown",
   "metadata": {},
   "source": [
    "When working with Colab, load the data from connected Google Drive. Otherwise make sure the data is downloaded from kaggle (https://www.kaggle.com/datasets/andrewmvd/brain-tumor-segmentation-in-mri-brats-2015/data) and load it from the data folder in this repo."
   ]
  },
  {
   "cell_type": "code",
   "execution_count": 3,
   "metadata": {
    "executionInfo": {
     "elapsed": 6,
     "status": "ok",
     "timestamp": 1708081843643,
     "user": {
      "displayName": "Franklin Turtle",
      "userId": "12328038110161735143"
     },
     "user_tz": -60
    },
    "id": "6Oi59hHz1q7J",
    "tags": []
   },
   "outputs": [],
   "source": [
    "\"\"\"\n",
    "# Colab\n",
    "df18 = pd.read_csv('/content/drive/MyDrive/Colab Notebooks/JEPSis/Tumor_Data/MICCAI_BraTS_2018_Data_Training/MICCAI_BraTS_2018_Data_Training/survival_data.csv')\n",
    "df19 = pd.read_csv('/content/drive/MyDrive/Colab Notebooks/JEPSis/Tumor_Data/MICCAI_BraTS_2019_Data_Training/MICCAI_BraTS_2019_Data_Training/survival_data_2019.csv')\n",
    "df20 = pd.read_csv('/content/drive/MyDrive/Colab Notebooks/JEPSis/Tumor_Data/MICCAI_BraTS2020_TrainingData/MICCAI_BraTS2020_TrainingData/survival_info_2020.csv')\n",
    "names_2019 = pd.read_csv('/content/drive/MyDrive/Colab Notebooks/JEPSis/Tumor_Data/MICCAI_BraTS_2019_Data_Training/MICCAI_BraTS_2019_Data_Training/name_mapping.csv')\n",
    "names_2020 = pd.read_csv('/content/drive/MyDrive/Colab Notebooks/JEPSis/Tumor_Data/MICCAI_BraTS2020_TrainingData/MICCAI_BraTS2020_TrainingData/name_mapping.csv')\n",
    "\"\"\"\n",
    "# Locally\n",
    "df18 = pd.read_csv('data/survival_data_2018.csv')\n",
    "df19 = pd.read_csv('data/survival_data_2019.csv')\n",
    "df20 = pd.read_csv('data/survival_info_2020.csv')\n",
    "names_2019 = pd.read_csv('data/name_mapping_2019.csv')\n",
    "names_2020 = pd.read_csv('data/name_mapping_2020.csv')"
   ]
  },
  {
   "cell_type": "markdown",
   "metadata": {},
   "source": [
    "To make some edits on this dataframe, they are copied for safety reasons."
   ]
  },
  {
   "cell_type": "code",
   "execution_count": 6,
   "metadata": {
    "executionInfo": {
     "elapsed": 436,
     "status": "ok",
     "timestamp": 1708089973870,
     "user": {
      "displayName": "Franklin Turtle",
      "userId": "12328038110161735143"
     },
     "user_tz": -60
    },
    "id": "814w_FIQBuEX",
    "tags": []
   },
   "outputs": [],
   "source": [
    "df18.rename(columns={'BraTS18ID':'ID_2018'}, inplace = True)\n",
    "df19.rename(columns={'BraTS19ID':'ID_2019'}, inplace = True)\n",
    "df20.rename(columns={'Brats20ID':'ID_2020'},inplace = True)"
   ]
  },
  {
   "cell_type": "code",
   "execution_count": 4,
   "metadata": {
    "executionInfo": {
     "elapsed": 291,
     "status": "ok",
     "timestamp": 1708081883130,
     "user": {
      "displayName": "Franklin Turtle",
      "userId": "12328038110161735143"
     },
     "user_tz": -60
    },
    "id": "4CVCqRx4ds9N",
    "tags": []
   },
   "outputs": [],
   "source": [
    "# renaming\n",
    "names19 = names_2019.copy()\n",
    "names20 = names_2020.copy()"
   ]
  },
  {
   "cell_type": "code",
   "execution_count": 5,
   "metadata": {
    "colab": {
     "base_uri": "https://localhost:8080/",
     "height": 226
    },
    "executionInfo": {
     "elapsed": 268,
     "status": "ok",
     "timestamp": 1708081912005,
     "user": {
      "displayName": "Franklin Turtle",
      "userId": "12328038110161735143"
     },
     "user_tz": -60
    },
    "id": "6NhykxEmd8P6",
    "outputId": "da7262e2-23c5-422f-d1cd-c29f5a0e6875",
    "tags": []
   },
   "outputs": [
    {
     "data": {
      "text/html": [
       "<div>\n",
       "<style scoped>\n",
       "    .dataframe tbody tr th:only-of-type {\n",
       "        vertical-align: middle;\n",
       "    }\n",
       "\n",
       "    .dataframe tbody tr th {\n",
       "        vertical-align: top;\n",
       "    }\n",
       "\n",
       "    .dataframe thead th {\n",
       "        text-align: right;\n",
       "    }\n",
       "</style>\n",
       "<table border=\"1\" class=\"dataframe\">\n",
       "  <thead>\n",
       "    <tr style=\"text-align: right;\">\n",
       "      <th></th>\n",
       "      <th>Grade</th>\n",
       "      <th>ID_2017</th>\n",
       "      <th>ID_2018</th>\n",
       "      <th>TCGA_TCIA_subject_ID</th>\n",
       "      <th>ID_2019</th>\n",
       "      <th>ID_2020</th>\n",
       "    </tr>\n",
       "  </thead>\n",
       "  <tbody>\n",
       "    <tr>\n",
       "      <th>0</th>\n",
       "      <td>HGG</td>\n",
       "      <td>Brats17_CBICA_AAB_1</td>\n",
       "      <td>Brats18_CBICA_AAB_1</td>\n",
       "      <td>NaN</td>\n",
       "      <td>BraTS19_CBICA_AAB_1</td>\n",
       "      <td>BraTS20_Training_001</td>\n",
       "    </tr>\n",
       "    <tr>\n",
       "      <th>1</th>\n",
       "      <td>HGG</td>\n",
       "      <td>Brats17_CBICA_AAG_1</td>\n",
       "      <td>Brats18_CBICA_AAG_1</td>\n",
       "      <td>NaN</td>\n",
       "      <td>BraTS19_CBICA_AAG_1</td>\n",
       "      <td>BraTS20_Training_002</td>\n",
       "    </tr>\n",
       "    <tr>\n",
       "      <th>2</th>\n",
       "      <td>HGG</td>\n",
       "      <td>Brats17_CBICA_AAL_1</td>\n",
       "      <td>Brats18_CBICA_AAL_1</td>\n",
       "      <td>NaN</td>\n",
       "      <td>BraTS19_CBICA_AAL_1</td>\n",
       "      <td>BraTS20_Training_003</td>\n",
       "    </tr>\n",
       "    <tr>\n",
       "      <th>3</th>\n",
       "      <td>HGG</td>\n",
       "      <td>Brats17_CBICA_AAP_1</td>\n",
       "      <td>Brats18_CBICA_AAP_1</td>\n",
       "      <td>NaN</td>\n",
       "      <td>BraTS19_CBICA_AAP_1</td>\n",
       "      <td>BraTS20_Training_004</td>\n",
       "    </tr>\n",
       "    <tr>\n",
       "      <th>4</th>\n",
       "      <td>HGG</td>\n",
       "      <td>Brats17_CBICA_ABB_1</td>\n",
       "      <td>Brats18_CBICA_ABB_1</td>\n",
       "      <td>NaN</td>\n",
       "      <td>BraTS19_CBICA_ABB_1</td>\n",
       "      <td>BraTS20_Training_005</td>\n",
       "    </tr>\n",
       "  </tbody>\n",
       "</table>\n",
       "</div>"
      ],
      "text/plain": [
       "  Grade              ID_2017              ID_2018 TCGA_TCIA_subject_ID   \n",
       "0   HGG  Brats17_CBICA_AAB_1  Brats18_CBICA_AAB_1                  NaN  \\\n",
       "1   HGG  Brats17_CBICA_AAG_1  Brats18_CBICA_AAG_1                  NaN   \n",
       "2   HGG  Brats17_CBICA_AAL_1  Brats18_CBICA_AAL_1                  NaN   \n",
       "3   HGG  Brats17_CBICA_AAP_1  Brats18_CBICA_AAP_1                  NaN   \n",
       "4   HGG  Brats17_CBICA_ABB_1  Brats18_CBICA_ABB_1                  NaN   \n",
       "\n",
       "               ID_2019               ID_2020  \n",
       "0  BraTS19_CBICA_AAB_1  BraTS20_Training_001  \n",
       "1  BraTS19_CBICA_AAG_1  BraTS20_Training_002  \n",
       "2  BraTS19_CBICA_AAL_1  BraTS20_Training_003  \n",
       "3  BraTS19_CBICA_AAP_1  BraTS20_Training_004  \n",
       "4  BraTS19_CBICA_ABB_1  BraTS20_Training_005  "
      ]
     },
     "execution_count": 5,
     "metadata": {},
     "output_type": "execute_result"
    }
   ],
   "source": [
    "names19.rename(columns ={'BraTS_2017_subject_ID':'ID_2017', 'BraTS_2018_subject_ID':'ID_2018', 'BraTS_2019_subject_ID':'ID_2019'}, inplace = True)\n",
    "names20.rename(columns ={'BraTS_2017_subject_ID':'ID_2017', 'BraTS_2018_subject_ID':'ID_2018', 'BraTS_2019_subject_ID':'ID_2019', 'BraTS_2020_subject_ID':'ID_2020'}, inplace = True)\n",
    "names20.head()"
   ]
  },
  {
   "cell_type": "code",
   "execution_count": 8,
   "metadata": {
    "colab": {
     "base_uri": "https://localhost:8080/"
    },
    "executionInfo": {
     "elapsed": 8,
     "status": "ok",
     "timestamp": 1708080601811,
     "user": {
      "displayName": "Franklin Turtle",
      "userId": "12328038110161735143"
     },
     "user_tz": -60
    },
    "id": "UV7XszJGiRFn",
    "outputId": "5fc05bc6-6d26-4c0b-9e98-9f19eec2aac8",
    "tags": []
   },
   "outputs": [
    {
     "name": "stdout",
     "output_type": "stream",
     "text": [
      "(335, 5) (369, 6) (163, 4) (259, 4) (236, 4)\n"
     ]
    }
   ],
   "source": [
    "print(names19.shape, names20.shape, df18.shape, df19.shape, df20.shape)"
   ]
  },
  {
   "cell_type": "markdown",
   "metadata": {},
   "source": [
    "After printing the shapes, it becomes clear, that 335 and 369 patients are mapped in 2019 and 2020, respectively. But regarding the information of age, resection status and survival data, only for the half or two thirds data is provided.\n",
    "\n",
    "**So let's check for missing values.**"
   ]
  },
  {
   "cell_type": "code",
   "execution_count": 10,
   "metadata": {
    "colab": {
     "base_uri": "https://localhost:8080/",
     "height": 455
    },
    "executionInfo": {
     "elapsed": 867,
     "status": "ok",
     "timestamp": 1708081935100,
     "user": {
      "displayName": "Franklin Turtle",
      "userId": "12328038110161735143"
     },
     "user_tz": -60
    },
    "id": "Vhtwy_mbje5m",
    "outputId": "d3eb46b7-ffdc-4a4b-a64b-6b291c25794d",
    "tags": []
   },
   "outputs": [
    {
     "data": {
      "text/plain": [
       "<Axes: >"
      ]
     },
     "execution_count": 10,
     "metadata": {},
     "output_type": "execute_result"
    },
    {
     "data": {
      "image/png": "[encoded data removed]",
      "text/plain": [
       "<Figure size 2500x1000 with 2 Axes>"
      ]
     },
     "metadata": {},
     "output_type": "display_data"
    }
   ],
   "source": [
    "mso.matrix(names20)"
   ]
  },
  {
   "cell_type": "code",
   "execution_count": 66,
   "metadata": {
    "colab": {
     "base_uri": "https://localhost:8080/"
    },
    "executionInfo": {
     "elapsed": 337,
     "status": "ok",
     "timestamp": 1708081930513,
     "user": {
      "displayName": "Franklin Turtle",
      "userId": "12328038110161735143"
     },
     "user_tz": -60
    },
    "id": "iH15Pa-ciuT5",
    "outputId": "45af4f25-ec6a-428d-fdfa-e765e30abd0d",
    "tags": []
   },
   "outputs": [
    {
     "name": "stdout",
     "output_type": "stream",
     "text": [
      "In 2019 50 IDs are missing for 2017, \n",
      "      50 IDs are missing for 2018 and \n",
      "      0 are missing in 2019. \n",
      "      This means 50 patients have been newly diagnosed in 2019.\n",
      " In 2020 the missing values for 2017 sum up to 84,\n",
      "      for 2018 to 84, \n",
      "      and for 2019 to 34. \n",
      "      Consequently 0 are missing in 2020, \n",
      "      therefore 34 have been newly diagnosed.\n"
     ]
    }
   ],
   "source": [
    "print(f\"\"\"In 2019 {names19.ID_2017.isna().sum()} IDs are missing for 2017, \n",
    "      {names19.ID_2018.isna().sum()} IDs are missing for 2018 and \n",
    "      {names19.ID_2019.isna().sum()} are missing in 2019. \n",
    "      This means 50 patients have been newly diagnosed in 2019.\"\"\") \n",
    "\n",
    "print(f\"\"\" In 2020 the missing values for 2017 sum up to {names20.ID_2017.isna().sum()},\n",
    "      for 2018 to {names20.ID_2018.isna().sum()}, \n",
    "      and for 2019 to {names20.ID_2019.isna().sum()}. \n",
    "      Consequently {names20.ID_2020.isna().sum()} are missing in 2020, \n",
    "      therefore 34 have been newly diagnosed.\"\"\")"
   ]
  },
  {
   "cell_type": "markdown",
   "metadata": {},
   "source": [
    "To check if there is a pattern in the missing values of the survival data, these tables are merged."
   ]
  },
  {
   "cell_type": "code",
   "execution_count": 16,
   "metadata": {
    "tags": []
   },
   "outputs": [],
   "source": [
    "%run Merging.ipynb\n",
    "df_full = pd.read_csv('data/df_full.csv')"
   ]
  },
  {
   "cell_type": "code",
   "execution_count": 17,
   "metadata": {
    "colab": {
     "base_uri": "https://localhost:8080/",
     "height": 453
    },
    "executionInfo": {
     "elapsed": 1878,
     "status": "ok",
     "timestamp": 1708093116882,
     "user": {
      "displayName": "Franklin Turtle",
      "userId": "12328038110161735143"
     },
     "user_tz": -60
    },
    "id": "X-zET5XvSGRn",
    "outputId": "008777be-75db-4584-be03-73eb29c085cc",
    "tags": []
   },
   "outputs": [
    {
     "data": {
      "text/plain": [
       "<Axes: >"
      ]
     },
     "execution_count": 17,
     "metadata": {},
     "output_type": "execute_result"
    },
    {
     "data": {
      "image/png": "[encoded data removed]",
      "text/plain": [
       "<Figure size 2500x1000 with 2 Axes>"
      ]
     },
     "metadata": {},
     "output_type": "display_data"
    }
   ],
   "source": [
    "mso.matrix(df_full)"
   ]
  },
  {
   "cell_type": "markdown",
   "metadata": {
    "colab": {
     "base_uri": "https://localhost:8080/"
    },
    "executionInfo": {
     "elapsed": 262,
     "status": "ok",
     "timestamp": 1708082732297,
     "user": {
      "displayName": "Franklin Turtle",
      "userId": "12328038110161735143"
     },
     "user_tz": -60
    },
    "id": "F6UgPYaNp5-d",
    "outputId": "9a03373a-63b4-488f-a9ca-62618c940299"
   },
   "source": [
    "It is obvious that a lot survival data is missing. For the patients with indexes > 289 no information of age, survival data and reection status is provided.\n",
    "Furthermore the column TCGA_TCIA_subject_ID is not given for the majority of patients and carries not much information."
   ]
  },
  {
   "cell_type": "code",
   "execution_count": 18,
   "metadata": {
    "tags": []
   },
   "outputs": [
    {
     "name": "stdout",
     "output_type": "stream",
     "text": [
      "<class 'pandas.core.frame.DataFrame'>\n",
      "RangeIndex: 369 entries, 0 to 368\n",
      "Data columns (total 17 columns):\n",
      " #   Column                Non-Null Count  Dtype  \n",
      "---  ------                --------------  -----  \n",
      " 0   Unnamed: 0            369 non-null    int64  \n",
      " 1   Grade19               335 non-null    object \n",
      " 2   ID_2017               285 non-null    object \n",
      " 3   ID_2018               285 non-null    object \n",
      " 4   TCGA_TCIA_subject_ID  167 non-null    object \n",
      " 5   ID_2019               335 non-null    object \n",
      " 6   Grade20               369 non-null    object \n",
      " 7   ID_2020               369 non-null    object \n",
      " 8   Age18                 163 non-null    float64\n",
      " 9   Survival18            163 non-null    float64\n",
      " 10  ResectionStatus18     83 non-null     object \n",
      " 11  Age19                 240 non-null    float64\n",
      " 12  Survival19            212 non-null    object \n",
      " 13  ResectionStatus19     108 non-null    object \n",
      " 14  Age                   236 non-null    float64\n",
      " 15  Survival_days         236 non-null    object \n",
      " 16  Extent_of_Resection   129 non-null    object \n",
      "dtypes: float64(4), int64(1), object(12)\n",
      "memory usage: 49.1+ KB\n"
     ]
    }
   ],
   "source": [
    "df_full.info()"
   ]
  },
  {
   "cell_type": "code",
   "execution_count": 67,
   "metadata": {
    "colab": {
     "base_uri": "https://localhost:8080/",
     "height": 1625
    },
    "executionInfo": {
     "elapsed": 496,
     "status": "ok",
     "timestamp": 1708090972283,
     "user": {
      "displayName": "Franklin Turtle",
      "userId": "12328038110161735143"
     },
     "user_tz": -60
    },
    "id": "_r3VzaAQD2B2",
    "outputId": "5d0a0c98-a1c3-4564-97f3-bfdcc27b2fab",
    "tags": []
   },
   "outputs": [
    {
     "data": {
      "text/html": [
       "<div>\n",
       "<style scoped>\n",
       "    .dataframe tbody tr th:only-of-type {\n",
       "        vertical-align: middle;\n",
       "    }\n",
       "\n",
       "    .dataframe tbody tr th {\n",
       "        vertical-align: top;\n",
       "    }\n",
       "\n",
       "    .dataframe thead th {\n",
       "        text-align: right;\n",
       "    }\n",
       "</style>\n",
       "<table border=\"1\" class=\"dataframe\">\n",
       "  <thead>\n",
       "    <tr style=\"text-align: right;\">\n",
       "      <th></th>\n",
       "      <th>Unnamed: 0</th>\n",
       "      <th>Grade19</th>\n",
       "      <th>ID_2017</th>\n",
       "      <th>ID_2018</th>\n",
       "      <th>TCGA_TCIA_subject_ID</th>\n",
       "      <th>ID_2019</th>\n",
       "      <th>Grade20</th>\n",
       "      <th>ID_2020</th>\n",
       "      <th>Age18</th>\n",
       "      <th>Survival18</th>\n",
       "      <th>ResectionStatus18</th>\n",
       "      <th>Age19</th>\n",
       "      <th>Survival19</th>\n",
       "      <th>ResectionStatus19</th>\n",
       "      <th>Age</th>\n",
       "      <th>Survival_days</th>\n",
       "      <th>Extent_of_Resection</th>\n",
       "    </tr>\n",
       "  </thead>\n",
       "  <tbody>\n",
       "    <tr>\n",
       "      <th>285</th>\n",
       "      <td>285</td>\n",
       "      <td>HGG</td>\n",
       "      <td>Brats17_TCIA_218_1</td>\n",
       "      <td>Brats18_TCIA08_218_1</td>\n",
       "      <td>TCGA-76-6280</td>\n",
       "      <td>BraTS19_TCIA08_218_1</td>\n",
       "      <td>HGG</td>\n",
       "      <td>BraTS20_Training_251</td>\n",
       "      <td>57.345</td>\n",
       "      <td>346.0</td>\n",
       "      <td>NaN</td>\n",
       "      <td>57.345205</td>\n",
       "      <td>346</td>\n",
       "      <td>NaN</td>\n",
       "      <td>57.345</td>\n",
       "      <td>346</td>\n",
       "      <td>NaN</td>\n",
       "    </tr>\n",
       "    <tr>\n",
       "      <th>286</th>\n",
       "      <td>286</td>\n",
       "      <td>HGG</td>\n",
       "      <td>Brats17_TCIA_469_1</td>\n",
       "      <td>Brats18_TCIA08_469_1</td>\n",
       "      <td>TCGA-76-6282</td>\n",
       "      <td>BraTS19_TCIA08_469_1</td>\n",
       "      <td>HGG</td>\n",
       "      <td>BraTS20_Training_252</td>\n",
       "      <td>63.899</td>\n",
       "      <td>519.0</td>\n",
       "      <td>NaN</td>\n",
       "      <td>63.898630</td>\n",
       "      <td>519</td>\n",
       "      <td>NaN</td>\n",
       "      <td>63.899</td>\n",
       "      <td>519</td>\n",
       "      <td>NaN</td>\n",
       "    </tr>\n",
       "    <tr>\n",
       "      <th>287</th>\n",
       "      <td>287</td>\n",
       "      <td>HGG</td>\n",
       "      <td>Brats17_TCIA_319_1</td>\n",
       "      <td>Brats18_TCIA08_319_1</td>\n",
       "      <td>TCGA-76-6285</td>\n",
       "      <td>BraTS19_TCIA08_319_1</td>\n",
       "      <td>HGG</td>\n",
       "      <td>BraTS20_Training_253</td>\n",
       "      <td>64.860</td>\n",
       "      <td>254.0</td>\n",
       "      <td>NaN</td>\n",
       "      <td>64.860274</td>\n",
       "      <td>254</td>\n",
       "      <td>NaN</td>\n",
       "      <td>64.860</td>\n",
       "      <td>254</td>\n",
       "      <td>NaN</td>\n",
       "    </tr>\n",
       "    <tr>\n",
       "      <th>288</th>\n",
       "      <td>288</td>\n",
       "      <td>HGG</td>\n",
       "      <td>Brats17_TCIA_242_1</td>\n",
       "      <td>Brats18_TCIA08_242_1</td>\n",
       "      <td>TCGA-76-6656</td>\n",
       "      <td>BraTS19_TCIA08_242_1</td>\n",
       "      <td>HGG</td>\n",
       "      <td>BraTS20_Training_254</td>\n",
       "      <td>66.479</td>\n",
       "      <td>147.0</td>\n",
       "      <td>NaN</td>\n",
       "      <td>66.479452</td>\n",
       "      <td>147</td>\n",
       "      <td>NaN</td>\n",
       "      <td>66.479</td>\n",
       "      <td>147</td>\n",
       "      <td>NaN</td>\n",
       "    </tr>\n",
       "    <tr>\n",
       "      <th>289</th>\n",
       "      <td>289</td>\n",
       "      <td>HGG</td>\n",
       "      <td>Brats17_TCIA_167_1</td>\n",
       "      <td>Brats18_TCIA08_167_1</td>\n",
       "      <td>TCGA-76-6657</td>\n",
       "      <td>BraTS19_TCIA08_167_1</td>\n",
       "      <td>HGG</td>\n",
       "      <td>BraTS20_Training_255</td>\n",
       "      <td>74.907</td>\n",
       "      <td>153.0</td>\n",
       "      <td>NaN</td>\n",
       "      <td>74.906849</td>\n",
       "      <td>153</td>\n",
       "      <td>NaN</td>\n",
       "      <td>74.907</td>\n",
       "      <td>153</td>\n",
       "      <td>NaN</td>\n",
       "    </tr>\n",
       "    <tr>\n",
       "      <th>290</th>\n",
       "      <td>290</td>\n",
       "      <td>HGG</td>\n",
       "      <td>Brats17_TCIA_205_1</td>\n",
       "      <td>Brats18_TCIA08_205_1</td>\n",
       "      <td>TCGA-76-6661</td>\n",
       "      <td>BraTS19_TCIA08_205_1</td>\n",
       "      <td>HGG</td>\n",
       "      <td>BraTS20_Training_256</td>\n",
       "      <td>NaN</td>\n",
       "      <td>NaN</td>\n",
       "      <td>NaN</td>\n",
       "      <td>54.698630</td>\n",
       "      <td>NaN</td>\n",
       "      <td>NaN</td>\n",
       "      <td>NaN</td>\n",
       "      <td>NaN</td>\n",
       "      <td>NaN</td>\n",
       "    </tr>\n",
       "    <tr>\n",
       "      <th>291</th>\n",
       "      <td>291</td>\n",
       "      <td>HGG</td>\n",
       "      <td>Brats17_TCIA_234_1</td>\n",
       "      <td>Brats18_TCIA08_234_1</td>\n",
       "      <td>TCGA-76-6662</td>\n",
       "      <td>BraTS19_TCIA08_234_1</td>\n",
       "      <td>HGG</td>\n",
       "      <td>BraTS20_Training_257</td>\n",
       "      <td>NaN</td>\n",
       "      <td>NaN</td>\n",
       "      <td>NaN</td>\n",
       "      <td>58.934247</td>\n",
       "      <td>NaN</td>\n",
       "      <td>NaN</td>\n",
       "      <td>NaN</td>\n",
       "      <td>NaN</td>\n",
       "      <td>NaN</td>\n",
       "    </tr>\n",
       "    <tr>\n",
       "      <th>292</th>\n",
       "      <td>292</td>\n",
       "      <td>HGG</td>\n",
       "      <td>Brats17_TCIA_436_1</td>\n",
       "      <td>Brats18_TCIA08_436_1</td>\n",
       "      <td>TCGA-76-6663</td>\n",
       "      <td>BraTS19_TCIA08_436_1</td>\n",
       "      <td>HGG</td>\n",
       "      <td>BraTS20_Training_258</td>\n",
       "      <td>NaN</td>\n",
       "      <td>NaN</td>\n",
       "      <td>NaN</td>\n",
       "      <td>44.180822</td>\n",
       "      <td>NaN</td>\n",
       "      <td>NaN</td>\n",
       "      <td>NaN</td>\n",
       "      <td>NaN</td>\n",
       "      <td>NaN</td>\n",
       "    </tr>\n",
       "    <tr>\n",
       "      <th>293</th>\n",
       "      <td>293</td>\n",
       "      <td>HGG</td>\n",
       "      <td>Brats17_TCIA_113_1</td>\n",
       "      <td>Brats18_TCIA08_113_1</td>\n",
       "      <td>TCGA-76-6664</td>\n",
       "      <td>BraTS19_TCIA08_113_1</td>\n",
       "      <td>HGG</td>\n",
       "      <td>BraTS20_Training_259</td>\n",
       "      <td>NaN</td>\n",
       "      <td>NaN</td>\n",
       "      <td>NaN</td>\n",
       "      <td>49.463014</td>\n",
       "      <td>NaN</td>\n",
       "      <td>NaN</td>\n",
       "      <td>NaN</td>\n",
       "      <td>NaN</td>\n",
       "      <td>NaN</td>\n",
       "    </tr>\n",
       "    <tr>\n",
       "      <th>294</th>\n",
       "      <td>294</td>\n",
       "      <td>LGG</td>\n",
       "      <td>Brats17_2013_0_1</td>\n",
       "      <td>Brats18_2013_0_1</td>\n",
       "      <td>NaN</td>\n",
       "      <td>BraTS19_2013_0_1</td>\n",
       "      <td>LGG</td>\n",
       "      <td>BraTS20_Training_260</td>\n",
       "      <td>NaN</td>\n",
       "      <td>NaN</td>\n",
       "      <td>NaN</td>\n",
       "      <td>NaN</td>\n",
       "      <td>NaN</td>\n",
       "      <td>NaN</td>\n",
       "      <td>NaN</td>\n",
       "      <td>NaN</td>\n",
       "      <td>NaN</td>\n",
       "    </tr>\n",
       "    <tr>\n",
       "      <th>295</th>\n",
       "      <td>295</td>\n",
       "      <td>LGG</td>\n",
       "      <td>Brats17_2013_6_1</td>\n",
       "      <td>Brats18_2013_6_1</td>\n",
       "      <td>NaN</td>\n",
       "      <td>BraTS19_2013_6_1</td>\n",
       "      <td>LGG</td>\n",
       "      <td>BraTS20_Training_261</td>\n",
       "      <td>NaN</td>\n",
       "      <td>NaN</td>\n",
       "      <td>NaN</td>\n",
       "      <td>NaN</td>\n",
       "      <td>NaN</td>\n",
       "      <td>NaN</td>\n",
       "      <td>NaN</td>\n",
       "      <td>NaN</td>\n",
       "      <td>NaN</td>\n",
       "    </tr>\n",
       "    <tr>\n",
       "      <th>296</th>\n",
       "      <td>296</td>\n",
       "      <td>LGG</td>\n",
       "      <td>Brats17_2013_16_1</td>\n",
       "      <td>Brats18_2013_16_1</td>\n",
       "      <td>NaN</td>\n",
       "      <td>BraTS19_2013_16_1</td>\n",
       "      <td>LGG</td>\n",
       "      <td>BraTS20_Training_262</td>\n",
       "      <td>NaN</td>\n",
       "      <td>NaN</td>\n",
       "      <td>NaN</td>\n",
       "      <td>NaN</td>\n",
       "      <td>NaN</td>\n",
       "      <td>NaN</td>\n",
       "      <td>NaN</td>\n",
       "      <td>NaN</td>\n",
       "      <td>NaN</td>\n",
       "    </tr>\n",
       "    <tr>\n",
       "      <th>297</th>\n",
       "      <td>297</td>\n",
       "      <td>LGG</td>\n",
       "      <td>Brats17_2013_15_1</td>\n",
       "      <td>Brats18_2013_15_1</td>\n",
       "      <td>NaN</td>\n",
       "      <td>BraTS19_2013_15_1</td>\n",
       "      <td>LGG</td>\n",
       "      <td>BraTS20_Training_263</td>\n",
       "      <td>NaN</td>\n",
       "      <td>NaN</td>\n",
       "      <td>NaN</td>\n",
       "      <td>NaN</td>\n",
       "      <td>NaN</td>\n",
       "      <td>NaN</td>\n",
       "      <td>NaN</td>\n",
       "      <td>NaN</td>\n",
       "      <td>NaN</td>\n",
       "    </tr>\n",
       "    <tr>\n",
       "      <th>298</th>\n",
       "      <td>298</td>\n",
       "      <td>LGG</td>\n",
       "      <td>Brats17_2013_8_1</td>\n",
       "      <td>Brats18_2013_8_1</td>\n",
       "      <td>NaN</td>\n",
       "      <td>BraTS19_2013_8_1</td>\n",
       "      <td>LGG</td>\n",
       "      <td>BraTS20_Training_264</td>\n",
       "      <td>NaN</td>\n",
       "      <td>NaN</td>\n",
       "      <td>NaN</td>\n",
       "      <td>NaN</td>\n",
       "      <td>NaN</td>\n",
       "      <td>NaN</td>\n",
       "      <td>NaN</td>\n",
       "      <td>NaN</td>\n",
       "      <td>NaN</td>\n",
       "    </tr>\n",
       "    <tr>\n",
       "      <th>299</th>\n",
       "      <td>299</td>\n",
       "      <td>LGG</td>\n",
       "      <td>Brats17_2013_24_1</td>\n",
       "      <td>Brats18_2013_24_1</td>\n",
       "      <td>NaN</td>\n",
       "      <td>BraTS19_2013_24_1</td>\n",
       "      <td>LGG</td>\n",
       "      <td>BraTS20_Training_265</td>\n",
       "      <td>NaN</td>\n",
       "      <td>NaN</td>\n",
       "      <td>NaN</td>\n",
       "      <td>NaN</td>\n",
       "      <td>NaN</td>\n",
       "      <td>NaN</td>\n",
       "      <td>NaN</td>\n",
       "      <td>NaN</td>\n",
       "      <td>NaN</td>\n",
       "    </tr>\n",
       "    <tr>\n",
       "      <th>300</th>\n",
       "      <td>300</td>\n",
       "      <td>LGG</td>\n",
       "      <td>Brats17_2013_29_1</td>\n",
       "      <td>Brats18_2013_29_1</td>\n",
       "      <td>NaN</td>\n",
       "      <td>BraTS19_2013_29_1</td>\n",
       "      <td>LGG</td>\n",
       "      <td>BraTS20_Training_266</td>\n",
       "      <td>NaN</td>\n",
       "      <td>NaN</td>\n",
       "      <td>NaN</td>\n",
       "      <td>NaN</td>\n",
       "      <td>NaN</td>\n",
       "      <td>NaN</td>\n",
       "      <td>NaN</td>\n",
       "      <td>NaN</td>\n",
       "      <td>NaN</td>\n",
       "    </tr>\n",
       "    <tr>\n",
       "      <th>301</th>\n",
       "      <td>301</td>\n",
       "      <td>LGG</td>\n",
       "      <td>Brats17_2013_28_1</td>\n",
       "      <td>Brats18_2013_28_1</td>\n",
       "      <td>NaN</td>\n",
       "      <td>BraTS19_2013_28_1</td>\n",
       "      <td>LGG</td>\n",
       "      <td>BraTS20_Training_267</td>\n",
       "      <td>NaN</td>\n",
       "      <td>NaN</td>\n",
       "      <td>NaN</td>\n",
       "      <td>NaN</td>\n",
       "      <td>NaN</td>\n",
       "      <td>NaN</td>\n",
       "      <td>NaN</td>\n",
       "      <td>NaN</td>\n",
       "      <td>NaN</td>\n",
       "    </tr>\n",
       "    <tr>\n",
       "      <th>302</th>\n",
       "      <td>302</td>\n",
       "      <td>LGG</td>\n",
       "      <td>Brats17_2013_1_1</td>\n",
       "      <td>Brats18_2013_1_1</td>\n",
       "      <td>NaN</td>\n",
       "      <td>BraTS19_2013_1_1</td>\n",
       "      <td>LGG</td>\n",
       "      <td>BraTS20_Training_268</td>\n",
       "      <td>NaN</td>\n",
       "      <td>NaN</td>\n",
       "      <td>NaN</td>\n",
       "      <td>NaN</td>\n",
       "      <td>NaN</td>\n",
       "      <td>NaN</td>\n",
       "      <td>NaN</td>\n",
       "      <td>NaN</td>\n",
       "      <td>NaN</td>\n",
       "    </tr>\n",
       "    <tr>\n",
       "      <th>303</th>\n",
       "      <td>303</td>\n",
       "      <td>LGG</td>\n",
       "      <td>Brats17_2013_9_1</td>\n",
       "      <td>Brats18_2013_9_1</td>\n",
       "      <td>NaN</td>\n",
       "      <td>BraTS19_2013_9_1</td>\n",
       "      <td>LGG</td>\n",
       "      <td>BraTS20_Training_269</td>\n",
       "      <td>NaN</td>\n",
       "      <td>NaN</td>\n",
       "      <td>NaN</td>\n",
       "      <td>NaN</td>\n",
       "      <td>NaN</td>\n",
       "      <td>NaN</td>\n",
       "      <td>NaN</td>\n",
       "      <td>NaN</td>\n",
       "      <td>NaN</td>\n",
       "    </tr>\n",
       "    <tr>\n",
       "      <th>304</th>\n",
       "      <td>304</td>\n",
       "      <td>LGG</td>\n",
       "      <td>Brats17_TCIA_451_1</td>\n",
       "      <td>Brats18_TCIA09_451_1</td>\n",
       "      <td>TCGA-CS-4942</td>\n",
       "      <td>BraTS19_TCIA09_451_1</td>\n",
       "      <td>LGG</td>\n",
       "      <td>BraTS20_Training_271</td>\n",
       "      <td>NaN</td>\n",
       "      <td>NaN</td>\n",
       "      <td>NaN</td>\n",
       "      <td>NaN</td>\n",
       "      <td>NaN</td>\n",
       "      <td>NaN</td>\n",
       "      <td>NaN</td>\n",
       "      <td>NaN</td>\n",
       "      <td>NaN</td>\n",
       "    </tr>\n",
       "  </tbody>\n",
       "</table>\n",
       "</div>"
      ],
      "text/plain": [
       "     Unnamed: 0 Grade19             ID_2017               ID_2018   \n",
       "285         285     HGG  Brats17_TCIA_218_1  Brats18_TCIA08_218_1  \\\n",
       "286         286     HGG  Brats17_TCIA_469_1  Brats18_TCIA08_469_1   \n",
       "287         287     HGG  Brats17_TCIA_319_1  Brats18_TCIA08_319_1   \n",
       "288         288     HGG  Brats17_TCIA_242_1  Brats18_TCIA08_242_1   \n",
       "289         289     HGG  Brats17_TCIA_167_1  Brats18_TCIA08_167_1   \n",
       "290         290     HGG  Brats17_TCIA_205_1  Brats18_TCIA08_205_1   \n",
       "291         291     HGG  Brats17_TCIA_234_1  Brats18_TCIA08_234_1   \n",
       "292         292     HGG  Brats17_TCIA_436_1  Brats18_TCIA08_436_1   \n",
       "293         293     HGG  Brats17_TCIA_113_1  Brats18_TCIA08_113_1   \n",
       "294         294     LGG    Brats17_2013_0_1      Brats18_2013_0_1   \n",
       "295         295     LGG    Brats17_2013_6_1      Brats18_2013_6_1   \n",
       "296         296     LGG   Brats17_2013_16_1     Brats18_2013_16_1   \n",
       "297         297     LGG   Brats17_2013_15_1     Brats18_2013_15_1   \n",
       "298         298     LGG    Brats17_2013_8_1      Brats18_2013_8_1   \n",
       "299         299     LGG   Brats17_2013_24_1     Brats18_2013_24_1   \n",
       "300         300     LGG   Brats17_2013_29_1     Brats18_2013_29_1   \n",
       "301         301     LGG   Brats17_2013_28_1     Brats18_2013_28_1   \n",
       "302         302     LGG    Brats17_2013_1_1      Brats18_2013_1_1   \n",
       "303         303     LGG    Brats17_2013_9_1      Brats18_2013_9_1   \n",
       "304         304     LGG  Brats17_TCIA_451_1  Brats18_TCIA09_451_1   \n",
       "\n",
       "    TCGA_TCIA_subject_ID               ID_2019 Grade20               ID_2020   \n",
       "285         TCGA-76-6280  BraTS19_TCIA08_218_1     HGG  BraTS20_Training_251  \\\n",
       "286         TCGA-76-6282  BraTS19_TCIA08_469_1     HGG  BraTS20_Training_252   \n",
       "287         TCGA-76-6285  BraTS19_TCIA08_319_1     HGG  BraTS20_Training_253   \n",
       "288         TCGA-76-6656  BraTS19_TCIA08_242_1     HGG  BraTS20_Training_254   \n",
       "289         TCGA-76-6657  BraTS19_TCIA08_167_1     HGG  BraTS20_Training_255   \n",
       "290         TCGA-76-6661  BraTS19_TCIA08_205_1     HGG  BraTS20_Training_256   \n",
       "291         TCGA-76-6662  BraTS19_TCIA08_234_1     HGG  BraTS20_Training_257   \n",
       "292         TCGA-76-6663  BraTS19_TCIA08_436_1     HGG  BraTS20_Training_258   \n",
       "293         TCGA-76-6664  BraTS19_TCIA08_113_1     HGG  BraTS20_Training_259   \n",
       "294                  NaN      BraTS19_2013_0_1     LGG  BraTS20_Training_260   \n",
       "295                  NaN      BraTS19_2013_6_1     LGG  BraTS20_Training_261   \n",
       "296                  NaN     BraTS19_2013_16_1     LGG  BraTS20_Training_262   \n",
       "297                  NaN     BraTS19_2013_15_1     LGG  BraTS20_Training_263   \n",
       "298                  NaN      BraTS19_2013_8_1     LGG  BraTS20_Training_264   \n",
       "299                  NaN     BraTS19_2013_24_1     LGG  BraTS20_Training_265   \n",
       "300                  NaN     BraTS19_2013_29_1     LGG  BraTS20_Training_266   \n",
       "301                  NaN     BraTS19_2013_28_1     LGG  BraTS20_Training_267   \n",
       "302                  NaN      BraTS19_2013_1_1     LGG  BraTS20_Training_268   \n",
       "303                  NaN      BraTS19_2013_9_1     LGG  BraTS20_Training_269   \n",
       "304         TCGA-CS-4942  BraTS19_TCIA09_451_1     LGG  BraTS20_Training_271   \n",
       "\n",
       "      Age18  Survival18 ResectionStatus18      Age19 Survival19   \n",
       "285  57.345       346.0               NaN  57.345205        346  \\\n",
       "286  63.899       519.0               NaN  63.898630        519   \n",
       "287  64.860       254.0               NaN  64.860274        254   \n",
       "288  66.479       147.0               NaN  66.479452        147   \n",
       "289  74.907       153.0               NaN  74.906849        153   \n",
       "290     NaN         NaN               NaN  54.698630        NaN   \n",
       "291     NaN         NaN               NaN  58.934247        NaN   \n",
       "292     NaN         NaN               NaN  44.180822        NaN   \n",
       "293     NaN         NaN               NaN  49.463014        NaN   \n",
       "294     NaN         NaN               NaN        NaN        NaN   \n",
       "295     NaN         NaN               NaN        NaN        NaN   \n",
       "296     NaN         NaN               NaN        NaN        NaN   \n",
       "297     NaN         NaN               NaN        NaN        NaN   \n",
       "298     NaN         NaN               NaN        NaN        NaN   \n",
       "299     NaN         NaN               NaN        NaN        NaN   \n",
       "300     NaN         NaN               NaN        NaN        NaN   \n",
       "301     NaN         NaN               NaN        NaN        NaN   \n",
       "302     NaN         NaN               NaN        NaN        NaN   \n",
       "303     NaN         NaN               NaN        NaN        NaN   \n",
       "304     NaN         NaN               NaN        NaN        NaN   \n",
       "\n",
       "    ResectionStatus19     Age Survival_days Extent_of_Resection  \n",
       "285               NaN  57.345           346                 NaN  \n",
       "286               NaN  63.899           519                 NaN  \n",
       "287               NaN  64.860           254                 NaN  \n",
       "288               NaN  66.479           147                 NaN  \n",
       "289               NaN  74.907           153                 NaN  \n",
       "290               NaN     NaN           NaN                 NaN  \n",
       "291               NaN     NaN           NaN                 NaN  \n",
       "292               NaN     NaN           NaN                 NaN  \n",
       "293               NaN     NaN           NaN                 NaN  \n",
       "294               NaN     NaN           NaN                 NaN  \n",
       "295               NaN     NaN           NaN                 NaN  \n",
       "296               NaN     NaN           NaN                 NaN  \n",
       "297               NaN     NaN           NaN                 NaN  \n",
       "298               NaN     NaN           NaN                 NaN  \n",
       "299               NaN     NaN           NaN                 NaN  \n",
       "300               NaN     NaN           NaN                 NaN  \n",
       "301               NaN     NaN           NaN                 NaN  \n",
       "302               NaN     NaN           NaN                 NaN  \n",
       "303               NaN     NaN           NaN                 NaN  \n",
       "304               NaN     NaN           NaN                 NaN  "
      ]
     },
     "execution_count": 67,
     "metadata": {},
     "output_type": "execute_result"
    }
   ],
   "source": [
    "df_full.iloc[285:305,:]"
   ]
  },
  {
   "cell_type": "markdown",
   "metadata": {},
   "source": [
    "Moreover it gets clear that the values for age, survival days do not get updated over the years, either the initial (2018) or the final (2020) value is taken for all years."
   ]
  },
  {
   "cell_type": "markdown",
   "metadata": {},
   "source": [
    "**Tumor Grade**"
   ]
  },
  {
   "cell_type": "markdown",
   "metadata": {},
   "source": [
    "The brain tumors are classified in grades, here LGG (low-grade glioma) and HGG (high-grade-glioma). As the business goal of this project is to get a model for the classification of the tumor grade, the classes are checked for balance."
   ]
  },
  {
   "cell_type": "code",
   "execution_count": 22,
   "metadata": {
    "colab": {
     "base_uri": "https://localhost:8080/"
    },
    "executionInfo": {
     "elapsed": 17,
     "status": "ok",
     "timestamp": 1708089784005,
     "user": {
      "displayName": "Franklin Turtle",
      "userId": "12328038110161735143"
     },
     "user_tz": -60
    },
    "id": "gEccs1jjFTT9",
    "outputId": "ddddb315-9bcf-4a35-947d-5f5835a81e34",
    "tags": []
   },
   "outputs": [
    {
     "name": "stdout",
     "output_type": "stream",
     "text": [
      "Grade19\n",
      "HGG    259\n",
      "LGG     76\n",
      "Name: count, dtype: int64 Grade20\n",
      "HGG    293\n",
      "LGG     76\n",
      "Name: count, dtype: int64\n"
     ]
    }
   ],
   "source": [
    "print(df_full.Grade19.value_counts(), df_full.Grade20.value_counts())"
   ]
  },
  {
   "cell_type": "markdown",
   "metadata": {},
   "source": [
    "The only proper treatment of this cancer is a resection. In the following the spread between **Gross total resection (GTR) and subtotal resection (STR)** is shown."
   ]
  },
  {
   "cell_type": "code",
   "execution_count": 52,
   "metadata": {
    "colab": {
     "base_uri": "https://localhost:8080/",
     "height": 467
    },
    "executionInfo": {
     "elapsed": 1062,
     "status": "ok",
     "timestamp": 1708090344011,
     "user": {
      "displayName": "Franklin Turtle",
      "userId": "12328038110161735143"
     },
     "user_tz": -60
    },
    "id": "EEI7ibT0GLfn",
    "outputId": "0f31c6e6-f00c-4017-a103-f90d6e742c51",
    "tags": []
   },
   "outputs": [
    {
     "data": {
      "text/plain": [
       "<Axes: xlabel='Extent_of_Resection', ylabel='count'>"
      ]
     },
     "execution_count": 52,
     "metadata": {},
     "output_type": "execute_result"
    },
    {
     "data": {
      "image/png": "[encoded data removed]",
      "text/plain": [
       "<Figure size 1000x500 with 3 Axes>"
      ]
     },
     "metadata": {},
     "output_type": "display_data"
    }
   ],
   "source": [
    "fig, axs = plt.subplots(1,3, figsize=(10,5))\n",
    "plt.suptitle(\"Amount of Resections per type\", fontsize = 15);\n",
    "sns.countplot(df_full, x='ResectionStatus18', ax=axs[0])\n",
    "sns.countplot(df_full, x='ResectionStatus19', ax=axs[1])\n",
    "sns.countplot(df_full, x='Extent_of_Resection', ax=axs[2])"
   ]
  },
  {
   "cell_type": "code",
   "execution_count": 103,
   "metadata": {
    "colab": {
     "base_uri": "https://localhost:8080/",
     "height": 411
    },
    "executionInfo": {
     "elapsed": 973,
     "status": "ok",
     "timestamp": 1707921910776,
     "user": {
      "displayName": "Franklin Turtle",
      "userId": "12328038110161735143"
     },
     "user_tz": -60
    },
    "id": "Zzs7tZVMFCXz",
    "outputId": "0be7aac3-c405-4374-da81-cf01503017fa",
    "tags": []
   },
   "outputs": [
    {
     "data": {
      "image/png": "[encoded data removed]",
      "text/plain": [
       "<Figure size 1200x360 with 1 Axes>"
      ]
     },
     "metadata": {},
     "output_type": "display_data"
    }
   ],
   "source": [
    "figsize = (12, 1.2 * len(df_full['ResectionStatus18'].unique()))\n",
    "plt.figure(figsize=figsize)\n",
    "sns.violinplot(df_full, x='Age19', y='ResectionStatus18', inner='stick', palette='Dark2')\n",
    "sns.despine(top=True, right=True, bottom=True, left=True)"
   ]
  },
  {
   "cell_type": "markdown",
   "metadata": {},
   "source": [
    "Overall more patients get a GTR and also over a higher variance of age. (Here Age19 is chosen as it has the least missing values.)"
   ]
  },
  {
   "cell_type": "markdown",
   "metadata": {},
   "source": [
    "**Influence of resection on survival days**\n",
    "On average the GTR gains a better success with more survival days, here depicted as outliers.\n",
    "But as only a few patients get a  STR the plots are very biased towards this individual values.\n",
    "\n",
    "To be able to plot the survival days, one person needs to be dropped as the value is a string 'ALIVE (1029 days later)'."
   ]
  },
  {
   "cell_type": "code",
   "execution_count": null,
   "metadata": {},
   "outputs": [],
   "source": [
    "df_full.query(\"Survival19 == 'ALIVE (301 days later)'\").index"
   ]
  },
  {
   "cell_type": "code",
   "execution_count": 89,
   "metadata": {
    "colab": {
     "base_uri": "https://localhost:8080/",
     "height": 80
    },
    "executionInfo": {
     "elapsed": 288,
     "status": "ok",
     "timestamp": 1707923238952,
     "user": {
      "displayName": "Franklin Turtle",
      "userId": "12328038110161735143"
     },
     "user_tz": -60
    },
    "id": "K0zeFvfXJ5gw",
    "outputId": "2dc00ed2-d393-43d3-ff25-bfae1a8c8230",
    "tags": []
   },
   "outputs": [
    {
     "data": {
      "text/plain": [
       "Index([84], dtype='int64')"
      ]
     },
     "execution_count": 89,
     "metadata": {},
     "output_type": "execute_result"
    }
   ],
   "source": [
    "df_full.query(\"Survival19 == 'ALIVE (1029 days later)'\").index"
   ]
  },
  {
   "cell_type": "code",
   "execution_count": 90,
   "metadata": {
    "tags": []
   },
   "outputs": [],
   "source": [
    "df_full = df_full.drop(index = 84, axis =0)"
   ]
  },
  {
   "cell_type": "code",
   "execution_count": 98,
   "metadata": {
    "colab": {
     "base_uri": "https://localhost:8080/",
     "height": 327
    },
    "executionInfo": {
     "elapsed": 373,
     "status": "error",
     "timestamp": 1707923159841,
     "user": {
      "displayName": "Franklin Turtle",
      "userId": "12328038110161735143"
     },
     "user_tz": -60
    },
    "id": "TKFuAEKwJHFs",
    "outputId": "2434a1f9-b05c-4702-c491-cca6d09c7406",
    "tags": []
   },
   "outputs": [],
   "source": [
    "# converting Survival into integer\n",
    "df_full.Survival19 = df_full.Survival19.astype('float')\n",
    "df_full.Survival_days = df_full.Survival_days.astype('float')"
   ]
  },
  {
   "cell_type": "code",
   "execution_count": 130,
   "metadata": {
    "colab": {
     "base_uri": "https://localhost:8080/",
     "height": 413
    },
    "executionInfo": {
     "elapsed": 475,
     "status": "ok",
     "timestamp": 1707921832453,
     "user": {
      "displayName": "Franklin Turtle",
      "userId": "12328038110161735143"
     },
     "user_tz": -60
    },
    "id": "-DLPYPyxEvTn",
    "outputId": "585ce6f6-e03f-4c1d-a6c7-d00391dbef28",
    "tags": []
   },
   "outputs": [
    {
     "data": {
      "image/png": "[encoded data removed]",
      "text/plain": [
       "<Figure size 700x500 with 3 Axes>"
      ]
     },
     "metadata": {},
     "output_type": "display_data"
    },
    {
     "data": {
      "text/plain": [
       "<Figure size 1200x360 with 0 Axes>"
      ]
     },
     "metadata": {},
     "output_type": "display_data"
    }
   ],
   "source": [
    "fig, axs = plt.subplots(3,1,figsize = (7, 5))\n",
    "plt.figure(figsize=figsize)\n",
    "fig1 = sns.boxplot(df_full, x='Survival18', y='ResectionStatus18', palette='Dark2', ax=axs[0])\n",
    "fig1.set_ylabel('2018')\n",
    "fig2 = sns.boxplot(df_full, x='Survival19', y='ResectionStatus19', palette='Dark2', ax = axs[1])\n",
    "fig2.set_ylabel('2019')\n",
    "fig3 = sns.boxplot(df_full, x='Survival_days', y='Extent_of_Resection', palette='Dark2', ax=axs[2])\n",
    "fig3.set_ylabel('2020')\n",
    "plt.tight_layout()\n",
    "sns.despine(top=True, right=True, bottom=True, left=True);"
   ]
  },
  {
   "cell_type": "code",
   "execution_count": 131,
   "metadata": {
    "colab": {
     "base_uri": "https://localhost:8080/",
     "height": 452
    },
    "executionInfo": {
     "elapsed": 793,
     "status": "ok",
     "timestamp": 1707919419116,
     "user": {
      "displayName": "Franklin Turtle",
      "userId": "12328038110161735143"
     },
     "user_tz": -60
    },
    "id": "EJD0510x5u0s",
    "outputId": "0e70fff9-c5f7-49f2-80b5-0ebdb94cdcb1",
    "tags": []
   },
   "outputs": [
    {
     "data": {
      "image/png": "[encoded data removed]",
      "text/plain": [
       "<Figure size 640x480 with 1 Axes>"
      ]
     },
     "metadata": {},
     "output_type": "display_data"
    }
   ],
   "source": [
    "df_full['Age19'].plot(kind='hist', bins=20, title='Age')\n",
    "plt.gca().spines[['top', 'right',]].set_visible(False)"
   ]
  },
  {
   "cell_type": "code",
   "execution_count": null,
   "metadata": {
    "colab": {
     "base_uri": "https://localhost:8080/",
     "height": 450
    },
    "executionInfo": {
     "elapsed": 967,
     "status": "ok",
     "timestamp": 1707921739705,
     "user": {
      "displayName": "Franklin Turtle",
      "userId": "12328038110161735143"
     },
     "user_tz": -60
    },
    "id": "DsXXyQNjEFjb",
    "outputId": "d623a851-1dd5-4c8c-ca5c-c7c00a5fb253"
   },
   "outputs": [
    {
     "data": {
      "text/plain": [
       "<Axes: ylabel='Frequency'>"
      ]
     },
     "execution_count": 12,
     "metadata": {},
     "output_type": "execute_result"
    },
    {
     "data": {
      "image/png": "[encoded data removed]",
      "text/plain": [
       "<Figure size 640x480 with 1 Axes>"
      ]
     },
     "metadata": {},
     "output_type": "display_data"
    }
   ],
   "source": [
    "df['Survival'].plot(kind='hist', bins = 20)"
   ]
  },
  {
   "cell_type": "markdown",
   "metadata": {
    "id": "Cc0-0L7KHsLf"
   },
   "source": [
    "2019"
   ]
  },
  {
   "cell_type": "code",
   "execution_count": 130,
   "metadata": {
    "colab": {
     "base_uri": "https://localhost:8080/",
     "height": 443
    },
    "executionInfo": {
     "elapsed": 423,
     "status": "ok",
     "timestamp": 1708092716161,
     "user": {
      "displayName": "Franklin Turtle",
      "userId": "12328038110161735143"
     },
     "user_tz": -60
    },
    "id": "IfaXfT16LJd9",
    "outputId": "2e2f5c55-e685-4401-8306-173216fd0d57"
   },
   "outputs": [
    {
     "data": {
      "application/vnd.google.colaboratory.intrinsic+json": {
       "summary": "{\n  \"name\": \"survival3\",\n  \"rows\": 236,\n  \"fields\": [\n    {\n      \"column\": \"Grade19\",\n      \"properties\": {\n        \"dtype\": \"category\",\n        \"samples\": [\n          \"HGG\"\n        ],\n        \"num_unique_values\": 1,\n        \"semantic_type\": \"\",\n        \"description\": \"\"\n      }\n    },\n    {\n      \"column\": \"ID_2017\",\n      \"properties\": {\n        \"dtype\": \"string\",\n        \"samples\": [\n          \"Brats17_TCIA_412_1\"\n        ],\n        \"num_unique_values\": 166,\n        \"semantic_type\": \"\",\n        \"description\": \"\"\n      }\n    },\n    {\n      \"column\": \"ID_2018\",\n      \"properties\": {\n        \"dtype\": \"string\",\n        \"samples\": [\n          \"Brats18_TCIA01_412_1\"\n        ],\n        \"num_unique_values\": 166,\n        \"semantic_type\": \"\",\n        \"description\": \"\"\n      }\n    },\n    {\n      \"column\": \"TCGA_TCIA_subject_ID\",\n      \"properties\": {\n        \"dtype\": \"category\",\n        \"samples\": [\n          \"TCGA-02-0033\"\n        ],\n        \"num_unique_values\": 76,\n        \"semantic_type\": \"\",\n        \"description\": \"\"\n      }\n    },\n    {\n      \"column\": \"ID_2019\",\n      \"properties\": {\n        \"dtype\": \"string\",\n        \"samples\": [\n          \"BraTS19_CBICA_AQJ_1\"\n        ],\n        \"num_unique_values\": 212,\n        \"semantic_type\": \"\",\n        \"description\": \"\"\n      }\n    },\n    {\n      \"column\": \"Grade20\",\n      \"properties\": {\n        \"dtype\": \"category\",\n        \"samples\": [\n          \"HGG\"\n        ],\n        \"num_unique_values\": 1,\n        \"semantic_type\": \"\",\n        \"description\": \"\"\n      }\n    },\n    {\n      \"column\": \"ID_2020\",\n      \"properties\": {\n        \"dtype\": \"string\",\n        \"samples\": [\n          \"BraTS20_Training_070\"\n        ],\n        \"num_unique_values\": 236,\n        \"semantic_type\": \"\",\n        \"description\": \"\"\n      }\n    },\n    {\n      \"column\": \"Age18\",\n      \"properties\": {\n        \"dtype\": \"number\",\n        \"std\": 12.083257846632868,\n        \"min\": 18.975,\n        \"max\": 85.762,\n        \"samples\": [\n          51.115\n        ],\n        \"num_unique_values\": 160,\n        \"semantic_type\": \"\",\n        \"description\": \"\"\n      }\n    },\n    {\n      \"column\": \"Survival18\",\n      \"properties\": {\n        \"dtype\": \"number\",\n        \"std\": 349.68384114815814,\n        \"min\": 5.0,\n        \"max\": 1767.0,\n        \"samples\": [\n          1767.0\n        ],\n        \"num_unique_values\": 152,\n        \"semantic_type\": \"\",\n        \"description\": \"\"\n      }\n    },\n    {\n      \"column\": \"ResectionStatus18\",\n      \"properties\": {\n        \"dtype\": \"category\",\n        \"samples\": [\n          \"STR\"\n        ],\n        \"num_unique_values\": 2,\n        \"semantic_type\": \"\",\n        \"description\": \"\"\n      }\n    },\n    {\n      \"column\": \"Age19\",\n      \"properties\": {\n        \"dtype\": \"number\",\n        \"std\": 12.201009547942727,\n        \"min\": 18.97534247,\n        \"max\": 86.65205479,\n        \"samples\": [\n          81.2109589\n        ],\n        \"num_unique_values\": 207,\n        \"semantic_type\": \"\",\n        \"description\": \"\"\n      }\n    },\n    {\n      \"column\": \"Survival19\",\n      \"properties\": {\n        \"dtype\": \"string\",\n        \"samples\": [\n          \"291\"\n        ],\n        \"num_unique_values\": 196,\n        \"semantic_type\": \"\",\n        \"description\": \"\"\n      }\n    },\n    {\n      \"column\": \"ResectionStatus19\",\n      \"properties\": {\n        \"dtype\": \"category\",\n        \"samples\": [\n          \"STR\"\n        ],\n        \"num_unique_values\": 2,\n        \"semantic_type\": \"\",\n        \"description\": \"\"\n      }\n    },\n    {\n      \"column\": \"Age\",\n      \"properties\": {\n        \"dtype\": \"number\",\n        \"std\": 11.87411353524204,\n        \"min\": 18.975,\n        \"max\": 86.652,\n        \"samples\": [\n          69.266\n        ],\n        \"num_unique_values\": 217,\n        \"semantic_type\": \"\",\n        \"description\": \"\"\n      }\n    },\n    {\n      \"column\": \"Survival_days\",\n      \"properties\": {\n        \"dtype\": \"string\",\n        \"samples\": [\n          \"580\"\n        ],\n        \"num_unique_values\": 218,\n        \"semantic_type\": \"\",\n        \"description\": \"\"\n      }\n    },\n    {\n      \"column\": \"Extent_of_Resection\",\n      \"properties\": {\n        \"dtype\": \"category\",\n        \"samples\": [\n          \"STR\"\n        ],\n        \"num_unique_values\": 2,\n        \"semantic_type\": \"\",\n        \"description\": \"\"\n      }\n    }\n  ]\n}",
       "type": "dataframe"
      },
      "text/html": [
       "\n",
       "  <div id=\"df-66215311-0b0b-4f92-8f8a-9f6a444672d7\" class=\"colab-df-container\">\n",
       "    <div>\n",
       "<style scoped>\n",
       "    .dataframe tbody tr th:only-of-type {\n",
       "        vertical-align: middle;\n",
       "    }\n",
       "\n",
       "    .dataframe tbody tr th {\n",
       "        vertical-align: top;\n",
       "    }\n",
       "\n",
       "    .dataframe thead th {\n",
       "        text-align: right;\n",
       "    }\n",
       "</style>\n",
       "<table border=\"1\" class=\"dataframe\">\n",
       "  <thead>\n",
       "    <tr style=\"text-align: right;\">\n",
       "      <th></th>\n",
       "      <th>Grade19</th>\n",
       "      <th>ID_2017</th>\n",
       "      <th>ID_2018</th>\n",
       "      <th>TCGA_TCIA_subject_ID</th>\n",
       "      <th>ID_2019</th>\n",
       "      <th>Grade20</th>\n",
       "      <th>ID_2020</th>\n",
       "      <th>Age18</th>\n",
       "      <th>Survival18</th>\n",
       "      <th>ResectionStatus18</th>\n",
       "      <th>Age19</th>\n",
       "      <th>Survival19</th>\n",
       "      <th>ResectionStatus19</th>\n",
       "      <th>Age</th>\n",
       "      <th>Survival_days</th>\n",
       "      <th>Extent_of_Resection</th>\n",
       "    </tr>\n",
       "  </thead>\n",
       "  <tbody>\n",
       "    <tr>\n",
       "      <th>0</th>\n",
       "      <td>HGG</td>\n",
       "      <td>Brats17_CBICA_AAB_1</td>\n",
       "      <td>Brats18_CBICA_AAB_1</td>\n",
       "      <td>NaN</td>\n",
       "      <td>BraTS19_CBICA_AAB_1</td>\n",
       "      <td>HGG</td>\n",
       "      <td>BraTS20_Training_001</td>\n",
       "      <td>60.463</td>\n",
       "      <td>289.0</td>\n",
       "      <td>GTR</td>\n",
       "      <td>60.463014</td>\n",
       "      <td>289</td>\n",
       "      <td>GTR</td>\n",
       "      <td>60.463</td>\n",
       "      <td>289</td>\n",
       "      <td>GTR</td>\n",
       "    </tr>\n",
       "    <tr>\n",
       "      <th>1</th>\n",
       "      <td>HGG</td>\n",
       "      <td>Brats17_CBICA_AAG_1</td>\n",
       "      <td>Brats18_CBICA_AAG_1</td>\n",
       "      <td>NaN</td>\n",
       "      <td>BraTS19_CBICA_AAG_1</td>\n",
       "      <td>HGG</td>\n",
       "      <td>BraTS20_Training_002</td>\n",
       "      <td>52.263</td>\n",
       "      <td>616.0</td>\n",
       "      <td>GTR</td>\n",
       "      <td>52.263014</td>\n",
       "      <td>616</td>\n",
       "      <td>GTR</td>\n",
       "      <td>52.263</td>\n",
       "      <td>616</td>\n",
       "      <td>GTR</td>\n",
       "    </tr>\n",
       "    <tr>\n",
       "      <th>2</th>\n",
       "      <td>HGG</td>\n",
       "      <td>Brats17_CBICA_AAL_1</td>\n",
       "      <td>Brats18_CBICA_AAL_1</td>\n",
       "      <td>NaN</td>\n",
       "      <td>BraTS19_CBICA_AAL_1</td>\n",
       "      <td>HGG</td>\n",
       "      <td>BraTS20_Training_003</td>\n",
       "      <td>54.301</td>\n",
       "      <td>464.0</td>\n",
       "      <td>GTR</td>\n",
       "      <td>54.301370</td>\n",
       "      <td>464</td>\n",
       "      <td>GTR</td>\n",
       "      <td>54.301</td>\n",
       "      <td>464</td>\n",
       "      <td>GTR</td>\n",
       "    </tr>\n",
       "    <tr>\n",
       "      <th>3</th>\n",
       "      <td>HGG</td>\n",
       "      <td>Brats17_CBICA_AAP_1</td>\n",
       "      <td>Brats18_CBICA_AAP_1</td>\n",
       "      <td>NaN</td>\n",
       "      <td>BraTS19_CBICA_AAP_1</td>\n",
       "      <td>HGG</td>\n",
       "      <td>BraTS20_Training_004</td>\n",
       "      <td>39.068</td>\n",
       "      <td>788.0</td>\n",
       "      <td>GTR</td>\n",
       "      <td>39.068493</td>\n",
       "      <td>788</td>\n",
       "      <td>GTR</td>\n",
       "      <td>39.068</td>\n",
       "      <td>788</td>\n",
       "      <td>GTR</td>\n",
       "    </tr>\n",
       "    <tr>\n",
       "      <th>4</th>\n",
       "      <td>HGG</td>\n",
       "      <td>Brats17_CBICA_ABB_1</td>\n",
       "      <td>Brats18_CBICA_ABB_1</td>\n",
       "      <td>NaN</td>\n",
       "      <td>BraTS19_CBICA_ABB_1</td>\n",
       "      <td>HGG</td>\n",
       "      <td>BraTS20_Training_005</td>\n",
       "      <td>68.493</td>\n",
       "      <td>465.0</td>\n",
       "      <td>GTR</td>\n",
       "      <td>68.493151</td>\n",
       "      <td>465</td>\n",
       "      <td>GTR</td>\n",
       "      <td>68.493</td>\n",
       "      <td>465</td>\n",
       "      <td>GTR</td>\n",
       "    </tr>\n",
       "    <tr>\n",
       "      <th>...</th>\n",
       "      <td>...</td>\n",
       "      <td>...</td>\n",
       "      <td>...</td>\n",
       "      <td>...</td>\n",
       "      <td>...</td>\n",
       "      <td>...</td>\n",
       "      <td>...</td>\n",
       "      <td>...</td>\n",
       "      <td>...</td>\n",
       "      <td>...</td>\n",
       "      <td>...</td>\n",
       "      <td>...</td>\n",
       "      <td>...</td>\n",
       "      <td>...</td>\n",
       "      <td>...</td>\n",
       "      <td>...</td>\n",
       "    </tr>\n",
       "    <tr>\n",
       "      <th>285</th>\n",
       "      <td>HGG</td>\n",
       "      <td>Brats17_TCIA_218_1</td>\n",
       "      <td>Brats18_TCIA08_218_1</td>\n",
       "      <td>TCGA-76-6280</td>\n",
       "      <td>BraTS19_TCIA08_218_1</td>\n",
       "      <td>HGG</td>\n",
       "      <td>BraTS20_Training_251</td>\n",
       "      <td>57.345</td>\n",
       "      <td>346.0</td>\n",
       "      <td>NaN</td>\n",
       "      <td>57.345205</td>\n",
       "      <td>346</td>\n",
       "      <td>NaN</td>\n",
       "      <td>57.345</td>\n",
       "      <td>346</td>\n",
       "      <td>NaN</td>\n",
       "    </tr>\n",
       "    <tr>\n",
       "      <th>286</th>\n",
       "      <td>HGG</td>\n",
       "      <td>Brats17_TCIA_469_1</td>\n",
       "      <td>Brats18_TCIA08_469_1</td>\n",
       "      <td>TCGA-76-6282</td>\n",
       "      <td>BraTS19_TCIA08_469_1</td>\n",
       "      <td>HGG</td>\n",
       "      <td>BraTS20_Training_252</td>\n",
       "      <td>63.899</td>\n",
       "      <td>519.0</td>\n",
       "      <td>NaN</td>\n",
       "      <td>63.898630</td>\n",
       "      <td>519</td>\n",
       "      <td>NaN</td>\n",
       "      <td>63.899</td>\n",
       "      <td>519</td>\n",
       "      <td>NaN</td>\n",
       "    </tr>\n",
       "    <tr>\n",
       "      <th>287</th>\n",
       "      <td>HGG</td>\n",
       "      <td>Brats17_TCIA_319_1</td>\n",
       "      <td>Brats18_TCIA08_319_1</td>\n",
       "      <td>TCGA-76-6285</td>\n",
       "      <td>BraTS19_TCIA08_319_1</td>\n",
       "      <td>HGG</td>\n",
       "      <td>BraTS20_Training_253</td>\n",
       "      <td>64.860</td>\n",
       "      <td>254.0</td>\n",
       "      <td>NaN</td>\n",
       "      <td>64.860274</td>\n",
       "      <td>254</td>\n",
       "      <td>NaN</td>\n",
       "      <td>64.860</td>\n",
       "      <td>254</td>\n",
       "      <td>NaN</td>\n",
       "    </tr>\n",
       "    <tr>\n",
       "      <th>288</th>\n",
       "      <td>HGG</td>\n",
       "      <td>Brats17_TCIA_242_1</td>\n",
       "      <td>Brats18_TCIA08_242_1</td>\n",
       "      <td>TCGA-76-6656</td>\n",
       "      <td>BraTS19_TCIA08_242_1</td>\n",
       "      <td>HGG</td>\n",
       "      <td>BraTS20_Training_254</td>\n",
       "      <td>66.479</td>\n",
       "      <td>147.0</td>\n",
       "      <td>NaN</td>\n",
       "      <td>66.479452</td>\n",
       "      <td>147</td>\n",
       "      <td>NaN</td>\n",
       "      <td>66.479</td>\n",
       "      <td>147</td>\n",
       "      <td>NaN</td>\n",
       "    </tr>\n",
       "    <tr>\n",
       "      <th>289</th>\n",
       "      <td>HGG</td>\n",
       "      <td>Brats17_TCIA_167_1</td>\n",
       "      <td>Brats18_TCIA08_167_1</td>\n",
       "      <td>TCGA-76-6657</td>\n",
       "      <td>BraTS19_TCIA08_167_1</td>\n",
       "      <td>HGG</td>\n",
       "      <td>BraTS20_Training_255</td>\n",
       "      <td>74.907</td>\n",
       "      <td>153.0</td>\n",
       "      <td>NaN</td>\n",
       "      <td>74.906849</td>\n",
       "      <td>153</td>\n",
       "      <td>NaN</td>\n",
       "      <td>74.907</td>\n",
       "      <td>153</td>\n",
       "      <td>NaN</td>\n",
       "    </tr>\n",
       "  </tbody>\n",
       "</table>\n",
       "<p>236 rows × 16 columns</p>\n",
       "</div>\n",
       "    <div class=\"colab-df-buttons\">\n",
       "\n",
       "  <div class=\"colab-df-container\">\n",
       "    <button class=\"colab-df-convert\" onclick=\"convertToInteractive('df-66215311-0b0b-4f92-8f8a-9f6a444672d7')\"\n",
       "            title=\"Convert this dataframe to an interactive table.\"\n",
       "            style=\"display:none;\">\n",
       "\n",
       "  <svg xmlns=\"http://www.w3.org/2000/svg\" height=\"24px\" viewBox=\"0 -960 960 960\">\n",
       "    <path d=\"M120-120v-720h720v720H120Zm60-500h600v-160H180v160Zm220 220h160v-160H400v160Zm0 220h160v-160H400v160ZM180-400h160v-160H180v160Zm440 0h160v-160H620v160ZM180-180h160v-160H180v160Zm440 0h160v-160H620v160Z\"/>\n",
       "  </svg>\n",
       "    </button>\n",
       "\n",
       "  <style>\n",
       "    .colab-df-container {\n",
       "      display:flex;\n",
       "      gap: 12px;\n",
       "    }\n",
       "\n",
       "    .colab-df-convert {\n",
       "      background-color: #E8F0FE;\n",
       "      border: none;\n",
       "      border-radius: 50%;\n",
       "      cursor: pointer;\n",
       "      display: none;\n",
       "      fill: #1967D2;\n",
       "      height: 32px;\n",
       "      padding: 0 0 0 0;\n",
       "      width: 32px;\n",
       "    }\n",
       "\n",
       "    .colab-df-convert:hover {\n",
       "      background-color: #E2EBFA;\n",
       "      box-shadow: 0px 1px 2px rgba(60, 64, 67, 0.3), 0px 1px 3px 1px rgba(60, 64, 67, 0.15);\n",
       "      fill: #174EA6;\n",
       "    }\n",
       "\n",
       "    .colab-df-buttons div {\n",
       "      margin-bottom: 4px;\n",
       "    }\n",
       "\n",
       "    [theme=dark] .colab-df-convert {\n",
       "      background-color: #3B4455;\n",
       "      fill: #D2E3FC;\n",
       "    }\n",
       "\n",
       "    [theme=dark] .colab-df-convert:hover {\n",
       "      background-color: #434B5C;\n",
       "      box-shadow: 0px 1px 3px 1px rgba(0, 0, 0, 0.15);\n",
       "      filter: drop-shadow(0px 1px 2px rgba(0, 0, 0, 0.3));\n",
       "      fill: #FFFFFF;\n",
       "    }\n",
       "  </style>\n",
       "\n",
       "    <script>\n",
       "      const buttonEl =\n",
       "        document.querySelector('#df-66215311-0b0b-4f92-8f8a-9f6a444672d7 button.colab-df-convert');\n",
       "      buttonEl.style.display =\n",
       "        google.colab.kernel.accessAllowed ? 'block' : 'none';\n",
       "\n",
       "      async function convertToInteractive(key) {\n",
       "        const element = document.querySelector('#df-66215311-0b0b-4f92-8f8a-9f6a444672d7');\n",
       "        const dataTable =\n",
       "          await google.colab.kernel.invokeFunction('convertToInteractive',\n",
       "                                                    [key], {});\n",
       "        if (!dataTable) return;\n",
       "\n",
       "        const docLinkHtml = 'Like what you see? Visit the ' +\n",
       "          '<a target=\"_blank\" href=https://colab.research.google.com/notebooks/data_table.ipynb>data table notebook</a>'\n",
       "          + ' to learn more about interactive tables.';\n",
       "        element.innerHTML = '';\n",
       "        dataTable['output_type'] = 'display_data';\n",
       "        await google.colab.output.renderOutput(dataTable, element);\n",
       "        const docLink = document.createElement('div');\n",
       "        docLink.innerHTML = docLinkHtml;\n",
       "        element.appendChild(docLink);\n",
       "      }\n",
       "    </script>\n",
       "  </div>\n",
       "\n",
       "\n",
       "<div id=\"df-8b42e553-37a8-401b-9f73-a0a825ffcf86\">\n",
       "  <button class=\"colab-df-quickchart\" onclick=\"quickchart('df-8b42e553-37a8-401b-9f73-a0a825ffcf86')\"\n",
       "            title=\"Suggest charts\"\n",
       "            style=\"display:none;\">\n",
       "\n",
       "<svg xmlns=\"http://www.w3.org/2000/svg\" height=\"24px\"viewBox=\"0 0 24 24\"\n",
       "     width=\"24px\">\n",
       "    <g>\n",
       "        <path d=\"M19 3H5c-1.1 0-2 .9-2 2v14c0 1.1.9 2 2 2h14c1.1 0 2-.9 2-2V5c0-1.1-.9-2-2-2zM9 17H7v-7h2v7zm4 0h-2V7h2v10zm4 0h-2v-4h2v4z\"/>\n",
       "    </g>\n",
       "</svg>\n",
       "  </button>\n",
       "\n",
       "<style>\n",
       "  .colab-df-quickchart {\n",
       "      --bg-color: #E8F0FE;\n",
       "      --fill-color: #1967D2;\n",
       "      --hover-bg-color: #E2EBFA;\n",
       "      --hover-fill-color: #174EA6;\n",
       "      --disabled-fill-color: #AAA;\n",
       "      --disabled-bg-color: #DDD;\n",
       "  }\n",
       "\n",
       "  [theme=dark] .colab-df-quickchart {\n",
       "      --bg-color: #3B4455;\n",
       "      --fill-color: #D2E3FC;\n",
       "      --hover-bg-color: #434B5C;\n",
       "      --hover-fill-color: #FFFFFF;\n",
       "      --disabled-bg-color: #3B4455;\n",
       "      --disabled-fill-color: #666;\n",
       "  }\n",
       "\n",
       "  .colab-df-quickchart {\n",
       "    background-color: var(--bg-color);\n",
       "    border: none;\n",
       "    border-radius: 50%;\n",
       "    cursor: pointer;\n",
       "    display: none;\n",
       "    fill: var(--fill-color);\n",
       "    height: 32px;\n",
       "    padding: 0;\n",
       "    width: 32px;\n",
       "  }\n",
       "\n",
       "  .colab-df-quickchart:hover {\n",
       "    background-color: var(--hover-bg-color);\n",
       "    box-shadow: 0 1px 2px rgba(60, 64, 67, 0.3), 0 1px 3px 1px rgba(60, 64, 67, 0.15);\n",
       "    fill: var(--button-hover-fill-color);\n",
       "  }\n",
       "\n",
       "  .colab-df-quickchart-complete:disabled,\n",
       "  .colab-df-quickchart-complete:disabled:hover {\n",
       "    background-color: var(--disabled-bg-color);\n",
       "    fill: var(--disabled-fill-color);\n",
       "    box-shadow: none;\n",
       "  }\n",
       "\n",
       "  .colab-df-spinner {\n",
       "    border: 2px solid var(--fill-color);\n",
       "    border-color: transparent;\n",
       "    border-bottom-color: var(--fill-color);\n",
       "    animation:\n",
       "      spin 1s steps(1) infinite;\n",
       "  }\n",
       "\n",
       "  @keyframes spin {\n",
       "    0% {\n",
       "      border-color: transparent;\n",
       "      border-bottom-color: var(--fill-color);\n",
       "      border-left-color: var(--fill-color);\n",
       "    }\n",
       "    20% {\n",
       "      border-color: transparent;\n",
       "      border-left-color: var(--fill-color);\n",
       "      border-top-color: var(--fill-color);\n",
       "    }\n",
       "    30% {\n",
       "      border-color: transparent;\n",
       "      border-left-color: var(--fill-color);\n",
       "      border-top-color: var(--fill-color);\n",
       "      border-right-color: var(--fill-color);\n",
       "    }\n",
       "    40% {\n",
       "      border-color: transparent;\n",
       "      border-right-color: var(--fill-color);\n",
       "      border-top-color: var(--fill-color);\n",
       "    }\n",
       "    60% {\n",
       "      border-color: transparent;\n",
       "      border-right-color: var(--fill-color);\n",
       "    }\n",
       "    80% {\n",
       "      border-color: transparent;\n",
       "      border-right-color: var(--fill-color);\n",
       "      border-bottom-color: var(--fill-color);\n",
       "    }\n",
       "    90% {\n",
       "      border-color: transparent;\n",
       "      border-bottom-color: var(--fill-color);\n",
       "    }\n",
       "  }\n",
       "</style>\n",
       "\n",
       "  <script>\n",
       "    async function quickchart(key) {\n",
       "      const quickchartButtonEl =\n",
       "        document.querySelector('#' + key + ' button');\n",
       "      quickchartButtonEl.disabled = true;  // To prevent multiple clicks.\n",
       "      quickchartButtonEl.classList.add('colab-df-spinner');\n",
       "      try {\n",
       "        const charts = await google.colab.kernel.invokeFunction(\n",
       "            'suggestCharts', [key], {});\n",
       "      } catch (error) {\n",
       "        console.error('Error during call to suggestCharts:', error);\n",
       "      }\n",
       "      quickchartButtonEl.classList.remove('colab-df-spinner');\n",
       "      quickchartButtonEl.classList.add('colab-df-quickchart-complete');\n",
       "    }\n",
       "    (() => {\n",
       "      let quickchartButtonEl =\n",
       "        document.querySelector('#df-8b42e553-37a8-401b-9f73-a0a825ffcf86 button');\n",
       "      quickchartButtonEl.style.display =\n",
       "        google.colab.kernel.accessAllowed ? 'block' : 'none';\n",
       "    })();\n",
       "  </script>\n",
       "</div>\n",
       "    </div>\n",
       "  </div>\n"
      ],
      "text/plain": [
       "    Grade19              ID_2017               ID_2018 TCGA_TCIA_subject_ID  \\\n",
       "0       HGG  Brats17_CBICA_AAB_1   Brats18_CBICA_AAB_1                  NaN   \n",
       "1       HGG  Brats17_CBICA_AAG_1   Brats18_CBICA_AAG_1                  NaN   \n",
       "2       HGG  Brats17_CBICA_AAL_1   Brats18_CBICA_AAL_1                  NaN   \n",
       "3       HGG  Brats17_CBICA_AAP_1   Brats18_CBICA_AAP_1                  NaN   \n",
       "4       HGG  Brats17_CBICA_ABB_1   Brats18_CBICA_ABB_1                  NaN   \n",
       "..      ...                  ...                   ...                  ...   \n",
       "285     HGG   Brats17_TCIA_218_1  Brats18_TCIA08_218_1         TCGA-76-6280   \n",
       "286     HGG   Brats17_TCIA_469_1  Brats18_TCIA08_469_1         TCGA-76-6282   \n",
       "287     HGG   Brats17_TCIA_319_1  Brats18_TCIA08_319_1         TCGA-76-6285   \n",
       "288     HGG   Brats17_TCIA_242_1  Brats18_TCIA08_242_1         TCGA-76-6656   \n",
       "289     HGG   Brats17_TCIA_167_1  Brats18_TCIA08_167_1         TCGA-76-6657   \n",
       "\n",
       "                  ID_2019 Grade20               ID_2020   Age18  Survival18  \\\n",
       "0     BraTS19_CBICA_AAB_1     HGG  BraTS20_Training_001  60.463       289.0   \n",
       "1     BraTS19_CBICA_AAG_1     HGG  BraTS20_Training_002  52.263       616.0   \n",
       "2     BraTS19_CBICA_AAL_1     HGG  BraTS20_Training_003  54.301       464.0   \n",
       "3     BraTS19_CBICA_AAP_1     HGG  BraTS20_Training_004  39.068       788.0   \n",
       "4     BraTS19_CBICA_ABB_1     HGG  BraTS20_Training_005  68.493       465.0   \n",
       "..                    ...     ...                   ...     ...         ...   \n",
       "285  BraTS19_TCIA08_218_1     HGG  BraTS20_Training_251  57.345       346.0   \n",
       "286  BraTS19_TCIA08_469_1     HGG  BraTS20_Training_252  63.899       519.0   \n",
       "287  BraTS19_TCIA08_319_1     HGG  BraTS20_Training_253  64.860       254.0   \n",
       "288  BraTS19_TCIA08_242_1     HGG  BraTS20_Training_254  66.479       147.0   \n",
       "289  BraTS19_TCIA08_167_1     HGG  BraTS20_Training_255  74.907       153.0   \n",
       "\n",
       "    ResectionStatus18      Age19 Survival19 ResectionStatus19     Age  \\\n",
       "0                 GTR  60.463014        289               GTR  60.463   \n",
       "1                 GTR  52.263014        616               GTR  52.263   \n",
       "2                 GTR  54.301370        464               GTR  54.301   \n",
       "3                 GTR  39.068493        788               GTR  39.068   \n",
       "4                 GTR  68.493151        465               GTR  68.493   \n",
       "..                ...        ...        ...               ...     ...   \n",
       "285               NaN  57.345205        346               NaN  57.345   \n",
       "286               NaN  63.898630        519               NaN  63.899   \n",
       "287               NaN  64.860274        254               NaN  64.860   \n",
       "288               NaN  66.479452        147               NaN  66.479   \n",
       "289               NaN  74.906849        153               NaN  74.907   \n",
       "\n",
       "    Survival_days Extent_of_Resection  \n",
       "0             289                 GTR  \n",
       "1             616                 GTR  \n",
       "2             464                 GTR  \n",
       "3             788                 GTR  \n",
       "4             465                 GTR  \n",
       "..            ...                 ...  \n",
       "285           346                 NaN  \n",
       "286           519                 NaN  \n",
       "287           254                 NaN  \n",
       "288           147                 NaN  \n",
       "289           153                 NaN  \n",
       "\n",
       "[236 rows x 16 columns]"
      ]
     },
     "execution_count": 130,
     "metadata": {},
     "output_type": "execute_result"
    }
   ],
   "source": [
    "survival3.query('Age.notnull()')"
   ]
  }
 ],
 "metadata": {
  "colab": {
   "authorship_tag": "ABX9TyNtJH7klH945Y4W/aCBOWVy",
   "mount_file_id": "1DJzcfvphIl_GmsKy5ZxaPnUWfvRnLZbc",
   "provenance": []
  },
  "kernelspec": {
   "display_name": "Python 3 (ipykernel)",
   "language": "python",
   "name": "python3"
  },
  "language_info": {
   "codemirror_mode": {
    "name": "ipython",
    "version": 3
   },
   "file_extension": ".py",
   "mimetype": "text/x-python",
   "name": "python",
   "nbconvert_exporter": "python",
   "pygments_lexer": "ipython3",
   "version": "3.11.3"
  }
 },
 "nbformat": 4,
 "nbformat_minor": 4
}
