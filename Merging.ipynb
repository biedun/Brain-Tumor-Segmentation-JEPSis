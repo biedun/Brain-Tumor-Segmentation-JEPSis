{
 "cells": [
  {
   "cell_type": "markdown",
   "id": "1c5beecc-b31e-40f0-abaf-8e114f0b5449",
   "metadata": {},
   "source": [
    "## Merging the tables"
   ]
  },
  {
   "cell_type": "code",
   "execution_count": 1,
   "id": "2d5b0005-1cb9-4231-97d5-3b7b98aa0613",
   "metadata": {
    "tags": []
   },
   "outputs": [],
   "source": [
    "# load packages\n",
    "import pandas as pd\n",
    "import missingno as mso\n",
    "import seaborn as sns\n",
    "import numpy as np"
   ]
  },
  {
   "cell_type": "code",
   "execution_count": 2,
   "id": "1bb628aa-d4a9-41f2-9d93-ac1c9f292868",
   "metadata": {
    "tags": []
   },
   "outputs": [],
   "source": [
    "\"\"\"\n",
    "# Colab\n",
    "df18 = pd.read_csv('/content/drive/MyDrive/Colab Notebooks/JEPSis/Tumor_Data/MICCAI_BraTS_2018_Data_Training/MICCAI_BraTS_2018_Data_Training/survival_data.csv')\n",
    "df19 = pd.read_csv('/content/drive/MyDrive/Colab Notebooks/JEPSis/Tumor_Data/MICCAI_BraTS_2019_Data_Training/MICCAI_BraTS_2019_Data_Training/survival_data_2019.csv')\n",
    "df20 = pd.read_csv('/content/drive/MyDrive/Colab Notebooks/JEPSis/Tumor_Data/MICCAI_BraTS2020_TrainingData/MICCAI_BraTS2020_TrainingData/survival_info_2020.csv')\n",
    "names_2019 = pd.read_csv('/content/drive/MyDrive/Colab Notebooks/JEPSis/Tumor_Data/MICCAI_BraTS_2019_Data_Training/MICCAI_BraTS_2019_Data_Training/name_mapping.csv')\n",
    "names_2020 = pd.read_csv('/content/drive/MyDrive/Colab Notebooks/JEPSis/Tumor_Data/MICCAI_BraTS2020_TrainingData/MICCAI_BraTS2020_TrainingData/name_mapping.csv')\n",
    "\"\"\"\n",
    "# Locally\n",
    "df18 = pd.read_csv('data/survival_data_2018.csv')\n",
    "df19 = pd.read_csv('data/survival_data_2019.csv')\n",
    "df20 = pd.read_csv('data/survival_info_2020.csv')\n",
    "names_2019 = pd.read_csv('data/name_mapping_2019.csv')\n",
    "names_2020 = pd.read_csv('data/name_mapping_2020.csv')"
   ]
  },
  {
   "cell_type": "code",
   "execution_count": 3,
   "id": "9f04c237-78bf-47fc-9419-1d2d3f5c217e",
   "metadata": {
    "tags": []
   },
   "outputs": [],
   "source": [
    "df18.rename(columns={'BraTS18ID':'ID_2018'}, inplace = True)\n",
    "df19.rename(columns={'BraTS19ID':'ID_2019'}, inplace = True)\n",
    "df20.rename(columns={'Brats20ID':'ID_2020'},inplace = True)"
   ]
  },
  {
   "cell_type": "code",
   "execution_count": 4,
   "id": "aab516d1-5e33-4b32-a117-28ab13408606",
   "metadata": {
    "tags": []
   },
   "outputs": [],
   "source": [
    "# renaming\n",
    "names19 = names_2019.copy()\n",
    "names20 = names_2020.copy()"
   ]
  },
  {
   "cell_type": "code",
   "execution_count": 5,
   "id": "ebb60f20-5ad6-4046-a1fc-6c8a5ee3ab57",
   "metadata": {
    "tags": []
   },
   "outputs": [
    {
     "data": {
      "text/html": [
       "<div>\n",
       "<style scoped>\n",
       "    .dataframe tbody tr th:only-of-type {\n",
       "        vertical-align: middle;\n",
       "    }\n",
       "\n",
       "    .dataframe tbody tr th {\n",
       "        vertical-align: top;\n",
       "    }\n",
       "\n",
       "    .dataframe thead th {\n",
       "        text-align: right;\n",
       "    }\n",
       "</style>\n",
       "<table border=\"1\" class=\"dataframe\">\n",
       "  <thead>\n",
       "    <tr style=\"text-align: right;\">\n",
       "      <th></th>\n",
       "      <th>Grade</th>\n",
       "      <th>ID_2017</th>\n",
       "      <th>ID_2018</th>\n",
       "      <th>TCGA_TCIA_subject_ID</th>\n",
       "      <th>ID_2019</th>\n",
       "      <th>ID_2020</th>\n",
       "    </tr>\n",
       "  </thead>\n",
       "  <tbody>\n",
       "    <tr>\n",
       "      <th>0</th>\n",
       "      <td>HGG</td>\n",
       "      <td>Brats17_CBICA_AAB_1</td>\n",
       "      <td>Brats18_CBICA_AAB_1</td>\n",
       "      <td>NaN</td>\n",
       "      <td>BraTS19_CBICA_AAB_1</td>\n",
       "      <td>BraTS20_Training_001</td>\n",
       "    </tr>\n",
       "    <tr>\n",
       "      <th>1</th>\n",
       "      <td>HGG</td>\n",
       "      <td>Brats17_CBICA_AAG_1</td>\n",
       "      <td>Brats18_CBICA_AAG_1</td>\n",
       "      <td>NaN</td>\n",
       "      <td>BraTS19_CBICA_AAG_1</td>\n",
       "      <td>BraTS20_Training_002</td>\n",
       "    </tr>\n",
       "    <tr>\n",
       "      <th>2</th>\n",
       "      <td>HGG</td>\n",
       "      <td>Brats17_CBICA_AAL_1</td>\n",
       "      <td>Brats18_CBICA_AAL_1</td>\n",
       "      <td>NaN</td>\n",
       "      <td>BraTS19_CBICA_AAL_1</td>\n",
       "      <td>BraTS20_Training_003</td>\n",
       "    </tr>\n",
       "    <tr>\n",
       "      <th>3</th>\n",
       "      <td>HGG</td>\n",
       "      <td>Brats17_CBICA_AAP_1</td>\n",
       "      <td>Brats18_CBICA_AAP_1</td>\n",
       "      <td>NaN</td>\n",
       "      <td>BraTS19_CBICA_AAP_1</td>\n",
       "      <td>BraTS20_Training_004</td>\n",
       "    </tr>\n",
       "    <tr>\n",
       "      <th>4</th>\n",
       "      <td>HGG</td>\n",
       "      <td>Brats17_CBICA_ABB_1</td>\n",
       "      <td>Brats18_CBICA_ABB_1</td>\n",
       "      <td>NaN</td>\n",
       "      <td>BraTS19_CBICA_ABB_1</td>\n",
       "      <td>BraTS20_Training_005</td>\n",
       "    </tr>\n",
       "  </tbody>\n",
       "</table>\n",
       "</div>"
      ],
      "text/plain": [
       "  Grade              ID_2017              ID_2018 TCGA_TCIA_subject_ID   \n",
       "0   HGG  Brats17_CBICA_AAB_1  Brats18_CBICA_AAB_1                  NaN  \\\n",
       "1   HGG  Brats17_CBICA_AAG_1  Brats18_CBICA_AAG_1                  NaN   \n",
       "2   HGG  Brats17_CBICA_AAL_1  Brats18_CBICA_AAL_1                  NaN   \n",
       "3   HGG  Brats17_CBICA_AAP_1  Brats18_CBICA_AAP_1                  NaN   \n",
       "4   HGG  Brats17_CBICA_ABB_1  Brats18_CBICA_ABB_1                  NaN   \n",
       "\n",
       "               ID_2019               ID_2020  \n",
       "0  BraTS19_CBICA_AAB_1  BraTS20_Training_001  \n",
       "1  BraTS19_CBICA_AAG_1  BraTS20_Training_002  \n",
       "2  BraTS19_CBICA_AAL_1  BraTS20_Training_003  \n",
       "3  BraTS19_CBICA_AAP_1  BraTS20_Training_004  \n",
       "4  BraTS19_CBICA_ABB_1  BraTS20_Training_005  "
      ]
     },
     "execution_count": 5,
     "metadata": {},
     "output_type": "execute_result"
    }
   ],
   "source": [
    "names19.rename(columns ={'BraTS_2017_subject_ID':'ID_2017', 'BraTS_2018_subject_ID':'ID_2018', 'BraTS_2019_subject_ID':'ID_2019'}, inplace = True)\n",
    "names20.rename(columns ={'BraTS_2017_subject_ID':'ID_2017', 'BraTS_2018_subject_ID':'ID_2018', 'BraTS_2019_subject_ID':'ID_2019', 'BraTS_2020_subject_ID':'ID_2020'}, inplace = True)\n",
    "names20.head()"
   ]
  },
  {
   "cell_type": "code",
   "execution_count": 6,
   "id": "87772c09-17a7-408b-af8c-893fb7a63141",
   "metadata": {
    "tags": []
   },
   "outputs": [
    {
     "data": {
      "text/html": [
       "<div>\n",
       "<style scoped>\n",
       "    .dataframe tbody tr th:only-of-type {\n",
       "        vertical-align: middle;\n",
       "    }\n",
       "\n",
       "    .dataframe tbody tr th {\n",
       "        vertical-align: top;\n",
       "    }\n",
       "\n",
       "    .dataframe thead th {\n",
       "        text-align: right;\n",
       "    }\n",
       "</style>\n",
       "<table border=\"1\" class=\"dataframe\">\n",
       "  <thead>\n",
       "    <tr style=\"text-align: right;\">\n",
       "      <th></th>\n",
       "      <th>Grade19</th>\n",
       "      <th>ID_2017</th>\n",
       "      <th>ID_2018</th>\n",
       "      <th>TCGA_TCIA_subject_ID</th>\n",
       "      <th>ID_2019</th>\n",
       "      <th>Grade20</th>\n",
       "      <th>ID_2020</th>\n",
       "    </tr>\n",
       "  </thead>\n",
       "  <tbody>\n",
       "    <tr>\n",
       "      <th>0</th>\n",
       "      <td>HGG</td>\n",
       "      <td>Brats17_CBICA_AAB_1</td>\n",
       "      <td>Brats18_CBICA_AAB_1</td>\n",
       "      <td>NaN</td>\n",
       "      <td>BraTS19_CBICA_AAB_1</td>\n",
       "      <td>HGG</td>\n",
       "      <td>BraTS20_Training_001</td>\n",
       "    </tr>\n",
       "    <tr>\n",
       "      <th>1</th>\n",
       "      <td>HGG</td>\n",
       "      <td>Brats17_CBICA_AAG_1</td>\n",
       "      <td>Brats18_CBICA_AAG_1</td>\n",
       "      <td>NaN</td>\n",
       "      <td>BraTS19_CBICA_AAG_1</td>\n",
       "      <td>HGG</td>\n",
       "      <td>BraTS20_Training_002</td>\n",
       "    </tr>\n",
       "    <tr>\n",
       "      <th>2</th>\n",
       "      <td>HGG</td>\n",
       "      <td>Brats17_CBICA_AAL_1</td>\n",
       "      <td>Brats18_CBICA_AAL_1</td>\n",
       "      <td>NaN</td>\n",
       "      <td>BraTS19_CBICA_AAL_1</td>\n",
       "      <td>HGG</td>\n",
       "      <td>BraTS20_Training_003</td>\n",
       "    </tr>\n",
       "    <tr>\n",
       "      <th>3</th>\n",
       "      <td>HGG</td>\n",
       "      <td>Brats17_CBICA_AAP_1</td>\n",
       "      <td>Brats18_CBICA_AAP_1</td>\n",
       "      <td>NaN</td>\n",
       "      <td>BraTS19_CBICA_AAP_1</td>\n",
       "      <td>HGG</td>\n",
       "      <td>BraTS20_Training_004</td>\n",
       "    </tr>\n",
       "    <tr>\n",
       "      <th>4</th>\n",
       "      <td>HGG</td>\n",
       "      <td>Brats17_CBICA_ABB_1</td>\n",
       "      <td>Brats18_CBICA_ABB_1</td>\n",
       "      <td>NaN</td>\n",
       "      <td>BraTS19_CBICA_ABB_1</td>\n",
       "      <td>HGG</td>\n",
       "      <td>BraTS20_Training_005</td>\n",
       "    </tr>\n",
       "  </tbody>\n",
       "</table>\n",
       "</div>"
      ],
      "text/plain": [
       "  Grade19              ID_2017              ID_2018 TCGA_TCIA_subject_ID   \n",
       "0     HGG  Brats17_CBICA_AAB_1  Brats18_CBICA_AAB_1                  NaN  \\\n",
       "1     HGG  Brats17_CBICA_AAG_1  Brats18_CBICA_AAG_1                  NaN   \n",
       "2     HGG  Brats17_CBICA_AAL_1  Brats18_CBICA_AAL_1                  NaN   \n",
       "3     HGG  Brats17_CBICA_AAP_1  Brats18_CBICA_AAP_1                  NaN   \n",
       "4     HGG  Brats17_CBICA_ABB_1  Brats18_CBICA_ABB_1                  NaN   \n",
       "\n",
       "               ID_2019 Grade20               ID_2020  \n",
       "0  BraTS19_CBICA_AAB_1     HGG  BraTS20_Training_001  \n",
       "1  BraTS19_CBICA_AAG_1     HGG  BraTS20_Training_002  \n",
       "2  BraTS19_CBICA_AAL_1     HGG  BraTS20_Training_003  \n",
       "3  BraTS19_CBICA_AAP_1     HGG  BraTS20_Training_004  \n",
       "4  BraTS19_CBICA_ABB_1     HGG  BraTS20_Training_005  "
      ]
     },
     "execution_count": 6,
     "metadata": {},
     "output_type": "execute_result"
    }
   ],
   "source": [
    "# join dfs to all patients in one name mapping df\n",
    "names_full = pd.merge(names19, names20, on= ['ID_2017', 'ID_2018', 'ID_2019','TCGA_TCIA_subject_ID'], suffixes=['19','20'], how='outer')\n",
    "names_full.head()"
   ]
  },
  {
   "cell_type": "code",
   "execution_count": 7,
   "id": "be5f2533-3e24-4010-a19d-8e5be07ceb42",
   "metadata": {
    "tags": []
   },
   "outputs": [],
   "source": [
    "# merge all survival tables\n",
    "survival1 = pd.merge(names_full,df18, on=['ID_2018'], how='outer', suffixes=[_, 18])"
   ]
  },
  {
   "cell_type": "code",
   "execution_count": 8,
   "id": "8af8d034-c015-4571-bd20-c2d96232604d",
   "metadata": {
    "tags": []
   },
   "outputs": [],
   "source": [
    "survival2 = pd.merge(survival1,df19, on=['ID_2019'], how='outer', suffixes=[18, 19])"
   ]
  },
  {
   "cell_type": "code",
   "execution_count": 11,
   "id": "2591eec5-c6d1-48e3-b4ef-101361de752e",
   "metadata": {
    "tags": []
   },
   "outputs": [],
   "source": [
    "df_full = pd.merge(survival2,df20, on=['ID_2020'], how='outer', suffixes=[_, 20])"
   ]
  },
  {
   "cell_type": "code",
   "execution_count": 12,
   "id": "617e3d5c-6622-4695-83a1-ac0dfb727c70",
   "metadata": {
    "tags": []
   },
   "outputs": [],
   "source": [
    "df_full.to_csv('data/df_full.csv')"
   ]
  }
 ],
 "metadata": {
  "kernelspec": {
   "display_name": "Python 3 (ipykernel)",
   "language": "python",
   "name": "python3"
  },
  "language_info": {
   "codemirror_mode": {
    "name": "ipython",
    "version": 3
   },
   "file_extension": ".py",
   "mimetype": "text/x-python",
   "name": "python",
   "nbconvert_exporter": "python",
   "pygments_lexer": "ipython3",
   "version": "3.11.3"
  }
 },
 "nbformat": 4,
 "nbformat_minor": 5
}
